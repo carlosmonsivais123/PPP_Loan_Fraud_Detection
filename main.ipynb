{
 "cells": [
  {
   "attachments": {},
   "cell_type": "markdown",
   "metadata": {},
   "source": [
    "### Libraries and Modules"
   ]
  },
  {
   "cell_type": "code",
   "execution_count": 1,
   "metadata": {},
   "outputs": [],
   "source": [
    "from Input_Values.input_vars import loan_input_data_location, geojson_input_data_location\n",
    "from Read_Data.read_data_files import Read_Data\n",
    "from Data_Cleaning.clean_data import Clean_Data\n",
    "from Feature_Engineering.create_features import Create_Features\n",
    "from EDA.eda_outputs import EDA_Outputs\n",
    "from XGBoost_Regression_Model.model_data_transformation import Model_Data_Transformations\n",
    "from XGBoost_Regression_Model.data_split import Data_Split\n",
    "from XGBoost_Regression_Model.create_model import Create_Model\n",
    "from Model_Feature_Importance.feature_importance import Model_Feature_Importance\n",
    "from Residual_Analysis.residual_analysis import Residual_Analysis\n",
    "from Residual_Analysis.standardized_residuals_fraud import Fraud_Detection\n",
    "from Create_Final_DF.final_df import Final_DF"
   ]
  },
  {
   "attachments": {},
   "cell_type": "markdown",
   "metadata": {},
   "source": [
    "### Calling Modules"
   ]
  },
  {
   "cell_type": "code",
   "execution_count": 2,
   "metadata": {},
   "outputs": [],
   "source": [
    "read_data=Read_Data()\n",
    "clean_data=Clean_Data()\n",
    "create_features=Create_Features()\n",
    "eda_outputs=EDA_Outputs()\n",
    "model_data_transformations=Model_Data_Transformations()\n",
    "data_split=Data_Split()\n",
    "create_model=Create_Model()\n",
    "model_feature_importance=Model_Feature_Importance()\n",
    "residual_analysis=Residual_Analysis()\n",
    "fraud_detection=Fraud_Detection()\n",
    "final_df=Final_DF()"
   ]
  },
  {
   "attachments": {},
   "cell_type": "markdown",
   "metadata": {},
   "source": [
    "### Read In Data"
   ]
  },
  {
   "cell_type": "code",
   "execution_count": 3,
   "metadata": {},
   "outputs": [
    {
     "data": {
      "text/html": [
       "<div>\n",
       "<style scoped>\n",
       "    .dataframe tbody tr th:only-of-type {\n",
       "        vertical-align: middle;\n",
       "    }\n",
       "\n",
       "    .dataframe tbody tr th {\n",
       "        vertical-align: top;\n",
       "    }\n",
       "\n",
       "    .dataframe thead th {\n",
       "        text-align: right;\n",
       "    }\n",
       "</style>\n",
       "<table border=\"1\" class=\"dataframe\">\n",
       "  <thead>\n",
       "    <tr style=\"text-align: right;\">\n",
       "      <th></th>\n",
       "      <th>LoanNumber</th>\n",
       "      <th>DateApproved</th>\n",
       "      <th>SBAOfficeCode</th>\n",
       "      <th>ProcessingMethod</th>\n",
       "      <th>BorrowerName</th>\n",
       "      <th>BorrowerAddress</th>\n",
       "      <th>BorrowerCity</th>\n",
       "      <th>BorrowerState</th>\n",
       "      <th>BorrowerZip</th>\n",
       "      <th>LoanStatusDate</th>\n",
       "      <th>...</th>\n",
       "      <th>BusinessType</th>\n",
       "      <th>OriginatingLenderLocationID</th>\n",
       "      <th>OriginatingLender</th>\n",
       "      <th>OriginatingLenderCity</th>\n",
       "      <th>OriginatingLenderState</th>\n",
       "      <th>Gender</th>\n",
       "      <th>Veteran</th>\n",
       "      <th>NonProfit</th>\n",
       "      <th>ForgivenessAmount</th>\n",
       "      <th>ForgivenessDate</th>\n",
       "    </tr>\n",
       "  </thead>\n",
       "  <tbody>\n",
       "    <tr>\n",
       "      <th>0</th>\n",
       "      <td>9547507704</td>\n",
       "      <td>2020-05-01</td>\n",
       "      <td>0464</td>\n",
       "      <td>PPP</td>\n",
       "      <td>SUMTER COATINGS, INC.</td>\n",
       "      <td>2410 Highway 15 South</td>\n",
       "      <td>Sumter</td>\n",
       "      <td>NaN</td>\n",
       "      <td>29150-9662</td>\n",
       "      <td>2020-12-18</td>\n",
       "      <td>...</td>\n",
       "      <td>Corporation</td>\n",
       "      <td>19248</td>\n",
       "      <td>Synovus Bank</td>\n",
       "      <td>COLUMBUS</td>\n",
       "      <td>GA</td>\n",
       "      <td>Unanswered</td>\n",
       "      <td>Unanswered</td>\n",
       "      <td>NaN</td>\n",
       "      <td>773553.37</td>\n",
       "      <td>2020-11-20</td>\n",
       "    </tr>\n",
       "    <tr>\n",
       "      <th>1</th>\n",
       "      <td>9777677704</td>\n",
       "      <td>2020-05-01</td>\n",
       "      <td>0464</td>\n",
       "      <td>PPP</td>\n",
       "      <td>PLEASANT PLACES, INC.</td>\n",
       "      <td>7684 Southrail Road</td>\n",
       "      <td>North Charleston</td>\n",
       "      <td>NaN</td>\n",
       "      <td>29420-9000</td>\n",
       "      <td>2021-09-28</td>\n",
       "      <td>...</td>\n",
       "      <td>Sole Proprietorship</td>\n",
       "      <td>19248</td>\n",
       "      <td>Synovus Bank</td>\n",
       "      <td>COLUMBUS</td>\n",
       "      <td>GA</td>\n",
       "      <td>Male Owned</td>\n",
       "      <td>Non-Veteran</td>\n",
       "      <td>NaN</td>\n",
       "      <td>746336.24</td>\n",
       "      <td>2021-08-12</td>\n",
       "    </tr>\n",
       "    <tr>\n",
       "      <th>2</th>\n",
       "      <td>5791407702</td>\n",
       "      <td>2020-05-01</td>\n",
       "      <td>1013</td>\n",
       "      <td>PPP</td>\n",
       "      <td>BOYER CHILDREN'S CLINIC</td>\n",
       "      <td>1850 BOYER AVE E</td>\n",
       "      <td>SEATTLE</td>\n",
       "      <td>NaN</td>\n",
       "      <td>98112-2922</td>\n",
       "      <td>2021-03-17</td>\n",
       "      <td>...</td>\n",
       "      <td>Non-Profit Organization</td>\n",
       "      <td>9551</td>\n",
       "      <td>Bank of America, National Association</td>\n",
       "      <td>CHARLOTTE</td>\n",
       "      <td>NC</td>\n",
       "      <td>Unanswered</td>\n",
       "      <td>Unanswered</td>\n",
       "      <td>Y</td>\n",
       "      <td>696677.49</td>\n",
       "      <td>2021-02-10</td>\n",
       "    </tr>\n",
       "    <tr>\n",
       "      <th>3</th>\n",
       "      <td>6223567700</td>\n",
       "      <td>2020-05-01</td>\n",
       "      <td>0920</td>\n",
       "      <td>PPP</td>\n",
       "      <td>KIRTLEY CONSTRUCTION INC</td>\n",
       "      <td>1661 MARTIN RANCH RD</td>\n",
       "      <td>SAN BERNARDINO</td>\n",
       "      <td>NaN</td>\n",
       "      <td>92407-1740</td>\n",
       "      <td>2021-10-16</td>\n",
       "      <td>...</td>\n",
       "      <td>Corporation</td>\n",
       "      <td>9551</td>\n",
       "      <td>Bank of America, National Association</td>\n",
       "      <td>CHARLOTTE</td>\n",
       "      <td>NC</td>\n",
       "      <td>Male Owned</td>\n",
       "      <td>Non-Veteran</td>\n",
       "      <td>NaN</td>\n",
       "      <td>395264.11</td>\n",
       "      <td>2021-09-10</td>\n",
       "    </tr>\n",
       "    <tr>\n",
       "      <th>4</th>\n",
       "      <td>9662437702</td>\n",
       "      <td>2020-05-01</td>\n",
       "      <td>0101</td>\n",
       "      <td>PPP</td>\n",
       "      <td>AERO BOX LLC</td>\n",
       "      <td>NaN</td>\n",
       "      <td>NaN</td>\n",
       "      <td>NaN</td>\n",
       "      <td>NaN</td>\n",
       "      <td>2021-08-17</td>\n",
       "      <td>...</td>\n",
       "      <td>NaN</td>\n",
       "      <td>57328</td>\n",
       "      <td>The Huntington National Bank</td>\n",
       "      <td>COLUMBUS</td>\n",
       "      <td>OH</td>\n",
       "      <td>Unanswered</td>\n",
       "      <td>Unanswered</td>\n",
       "      <td>NaN</td>\n",
       "      <td>370819.35</td>\n",
       "      <td>2021-04-08</td>\n",
       "    </tr>\n",
       "  </tbody>\n",
       "</table>\n",
       "<p>5 rows × 53 columns</p>\n",
       "</div>"
      ],
      "text/plain": [
       "   LoanNumber DateApproved SBAOfficeCode ProcessingMethod  \\\n",
       "0  9547507704   2020-05-01          0464              PPP   \n",
       "1  9777677704   2020-05-01          0464              PPP   \n",
       "2  5791407702   2020-05-01          1013              PPP   \n",
       "3  6223567700   2020-05-01          0920              PPP   \n",
       "4  9662437702   2020-05-01          0101              PPP   \n",
       "\n",
       "               BorrowerName        BorrowerAddress      BorrowerCity  \\\n",
       "0     SUMTER COATINGS, INC.  2410 Highway 15 South            Sumter   \n",
       "1     PLEASANT PLACES, INC.    7684 Southrail Road  North Charleston   \n",
       "2   BOYER CHILDREN'S CLINIC       1850 BOYER AVE E           SEATTLE   \n",
       "3  KIRTLEY CONSTRUCTION INC   1661 MARTIN RANCH RD    SAN BERNARDINO   \n",
       "4              AERO BOX LLC                    NaN               NaN   \n",
       "\n",
       "  BorrowerState BorrowerZip LoanStatusDate  ...             BusinessType  \\\n",
       "0           NaN  29150-9662     2020-12-18  ...              Corporation   \n",
       "1           NaN  29420-9000     2021-09-28  ...      Sole Proprietorship   \n",
       "2           NaN  98112-2922     2021-03-17  ...  Non-Profit Organization   \n",
       "3           NaN  92407-1740     2021-10-16  ...              Corporation   \n",
       "4           NaN         NaN     2021-08-17  ...                      NaN   \n",
       "\n",
       "   OriginatingLenderLocationID                      OriginatingLender  \\\n",
       "0                        19248                           Synovus Bank   \n",
       "1                        19248                           Synovus Bank   \n",
       "2                         9551  Bank of America, National Association   \n",
       "3                         9551  Bank of America, National Association   \n",
       "4                        57328           The Huntington National Bank   \n",
       "\n",
       "   OriginatingLenderCity  OriginatingLenderState      Gender      Veteran  \\\n",
       "0               COLUMBUS                      GA  Unanswered   Unanswered   \n",
       "1               COLUMBUS                      GA  Male Owned  Non-Veteran   \n",
       "2              CHARLOTTE                      NC  Unanswered   Unanswered   \n",
       "3              CHARLOTTE                      NC  Male Owned  Non-Veteran   \n",
       "4               COLUMBUS                      OH  Unanswered   Unanswered   \n",
       "\n",
       "  NonProfit ForgivenessAmount ForgivenessDate  \n",
       "0       NaN         773553.37      2020-11-20  \n",
       "1       NaN         746336.24      2021-08-12  \n",
       "2         Y         696677.49      2021-02-10  \n",
       "3       NaN         395264.11      2021-09-10  \n",
       "4       NaN         370819.35      2021-04-08  \n",
       "\n",
       "[5 rows x 53 columns]"
      ]
     },
     "execution_count": 3,
     "metadata": {},
     "output_type": "execute_result"
    }
   ],
   "source": [
    "original_data_df=read_data.loan_data_to_pandas_df(loan_input_data_location=loan_input_data_location)\n",
    "geojson_data=read_data.read_in_geojson_data(geojson_input_data_location=geojson_input_data_location)\n",
    "original_data_df.head()"
   ]
  },
  {
   "attachments": {},
   "cell_type": "markdown",
   "metadata": {},
   "source": [
    "### Removing Certain Rows Based on Columns"
   ]
  },
  {
   "cell_type": "code",
   "execution_count": 4,
   "metadata": {},
   "outputs": [
    {
     "name": "stdout",
     "output_type": "stream",
     "text": [
      "The original dataframe has the following shape: (968531, 53)\n",
      "After removing Null values the new dataframe has the following shape: (935126, 53)\n"
     ]
    }
   ],
   "source": [
    "print(f'The original dataframe has the following shape: {original_data_df.shape}')\n",
    "remove_nulls_df=clean_data.remove_nulls_based_on_columns(data=original_data_df)\n",
    "remove_territories_df=clean_data.remove_usa_territories(data=remove_nulls_df)\n",
    "print(f'After removing Null values the new dataframe has the following shape: {remove_territories_df.shape}')"
   ]
  },
  {
   "attachments": {},
   "cell_type": "markdown",
   "metadata": {},
   "source": [
    "### Feature Engineering"
   ]
  },
  {
   "cell_type": "code",
   "execution_count": 5,
   "metadata": {},
   "outputs": [],
   "source": [
    "# Industry Mapping\n",
    "clean_data_df=create_features.mapping_industries(data=remove_territories_df)\n",
    "\n",
    "# Number of Loans\n",
    "clean_data_df=create_features.number_of_loans(data=clean_data_df)\n",
    "\n",
    "# Amount of Loan Forgiven\n",
    "clean_data_df=create_features.amount_of_loan_forgiven(data=clean_data_df)\n",
    "\n",
    "# Revised Loan Approval\n",
    "clean_data_df=create_features.revised_loan_amount(data=clean_data_df)\n",
    "\n",
    "# Days With Loan\n",
    "clean_data_df=create_features.days_with_loan_approval(data=clean_data_df)\n",
    "\n",
    "# ZIP5 Borrower Feature\n",
    "clean_data_df=create_features.create_borrower_zip5(data=clean_data_df)\n",
    "\n",
    "# ZIP5 Lender Feature\n",
    "clean_data_df=create_features.create_lender_zip5(data=clean_data_df)"
   ]
  },
  {
   "attachments": {},
   "cell_type": "markdown",
   "metadata": {},
   "source": [
    "### EDA"
   ]
  },
  {
   "cell_type": "code",
   "execution_count": 6,
   "metadata": {},
   "outputs": [],
   "source": [
    "eda_outputs.eda_plots_missing_values_heatmap(data=clean_data_df)\n",
    "eda_outputs.eda_correlation_heatmap(data=clean_data_df)\n",
    "eda_outputs.eda_mapping_industries_and_count(data=clean_data_df)\n",
    "eda_outputs.eda_spread_by_gender(data=clean_data_df)\n",
    "eda_outputs.eda_average_loan_amount_by_industry_and_gender(data=clean_data_df)\n",
    "eda_outputs.eda_average_loan_amount_by_lmi_indicator_by_industry(data=clean_data_df)\n",
    "eda_outputs.eda_average_loan_amount_by_hubzone_indicator_by_industry(data=clean_data_df)\n",
    "eda_outputs.eda_state_loan_count(data=clean_data_df)\n",
    "eda_outputs.eda_state_loan_avg_amount(data=clean_data_df)\n",
    "eda_outputs.eda_zip_loan_count(data=clean_data_df, counties=geojson_data)\n",
    "eda_outputs.eda_zip_loan_avg(data=clean_data_df, counties=geojson_data)\n",
    "eda_outputs.eda_time_series_gender_loan_amount(data=clean_data_df)\n",
    "eda_outputs.eda_time_series_loan_amount(data=clean_data_df)\n",
    "eda_outputs.eda_spend_amount_per_category(data=clean_data_df)\n",
    "eda_outputs.eda_daily_spend_per_indsutry(data=clean_data_df)"
   ]
  },
  {
   "attachments": {},
   "cell_type": "markdown",
   "metadata": {},
   "source": [
    "### Selecting Modeling Features"
   ]
  },
  {
   "cell_type": "code",
   "execution_count": 7,
   "metadata": {},
   "outputs": [],
   "source": [
    "ml_dataset_df=model_data_transformations.select_and_impute_features(data=clean_data_df)"
   ]
  },
  {
   "attachments": {},
   "cell_type": "markdown",
   "metadata": {},
   "source": [
    "### Sklearn Pipeline For Modeling Features"
   ]
  },
  {
   "cell_type": "code",
   "execution_count": 8,
   "metadata": {},
   "outputs": [],
   "source": [
    "ml_sparse_df=model_data_transformations.sklearn_data_pipelines(data=ml_dataset_df)"
   ]
  },
  {
   "attachments": {},
   "cell_type": "markdown",
   "metadata": {},
   "source": [
    "### Splitting Into X and Y Variables"
   ]
  },
  {
   "cell_type": "code",
   "execution_count": 9,
   "metadata": {},
   "outputs": [],
   "source": [
    "x_y_variables=data_split.split_data_x_y(data=ml_sparse_df)\n",
    "X=x_y_variables[0]\n",
    "y=x_y_variables[1]"
   ]
  },
  {
   "attachments": {},
   "cell_type": "markdown",
   "metadata": {},
   "source": [
    "### XGBoost Regression Model"
   ]
  },
  {
   "cell_type": "code",
   "execution_count": 10,
   "metadata": {},
   "outputs": [
    {
     "name": "stdout",
     "output_type": "stream",
     "text": [
      "Fitting 5 folds for each of 4 candidates, totalling 20 fits\n"
     ]
    },
    {
     "name": "stderr",
     "output_type": "stream",
     "text": [
      "/Users/carlosmonsivais/Desktop/final_project_data_viz/small_biz/lib/python3.10/site-packages/xgboost/sklearn.py:761: UserWarning:\n",
      "\n",
      "eval_metric is not saved in Scikit-Learn meta.\n",
      "\n"
     ]
    }
   ],
   "source": [
    "best_xgboost_model=create_model.create_xgboost_model(X=X, y=y)"
   ]
  },
  {
   "attachments": {},
   "cell_type": "markdown",
   "metadata": {},
   "source": [
    "### Model Feature Importance"
   ]
  },
  {
   "cell_type": "code",
   "execution_count": 11,
   "metadata": {},
   "outputs": [],
   "source": [
    "model_feature_importance.xgboost_feature_importance()"
   ]
  },
  {
   "attachments": {},
   "cell_type": "markdown",
   "metadata": {},
   "source": [
    "### Standardized Residuals"
   ]
  },
  {
   "cell_type": "code",
   "execution_count": 12,
   "metadata": {},
   "outputs": [],
   "source": [
    "standardized_residuals_df=residual_analysis.analyze_residual_data(X=X, \n",
    "                                                                  y=y,\n",
    "                                                                  clean_data_df=clean_data_df)"
   ]
  },
  {
   "attachments": {},
   "cell_type": "markdown",
   "metadata": {},
   "source": [
    "### Calculating Fraud Based on Residuals"
   ]
  },
  {
   "cell_type": "code",
   "execution_count": 13,
   "metadata": {},
   "outputs": [],
   "source": [
    "fraud_df=fraud_detection.standardized_residuals_percentiles(data=standardized_residuals_df)"
   ]
  },
  {
   "attachments": {},
   "cell_type": "markdown",
   "metadata": {},
   "source": [
    "### Creating Final DataFrame"
   ]
  },
  {
   "cell_type": "code",
   "execution_count": 14,
   "metadata": {},
   "outputs": [
    {
     "data": {
      "text/html": [
       "<div>\n",
       "<style scoped>\n",
       "    .dataframe tbody tr th:only-of-type {\n",
       "        vertical-align: middle;\n",
       "    }\n",
       "\n",
       "    .dataframe tbody tr th {\n",
       "        vertical-align: top;\n",
       "    }\n",
       "\n",
       "    .dataframe thead th {\n",
       "        text-align: right;\n",
       "    }\n",
       "</style>\n",
       "<table border=\"1\" class=\"dataframe\">\n",
       "  <thead>\n",
       "    <tr style=\"text-align: right;\">\n",
       "      <th></th>\n",
       "      <th>LoanNumber</th>\n",
       "      <th>DateApproved</th>\n",
       "      <th>BorrowerName</th>\n",
       "      <th>BorrowerCity</th>\n",
       "      <th>BorrowerState</th>\n",
       "      <th>Term</th>\n",
       "      <th>InitialApprovalAmount</th>\n",
       "      <th>CurrentApprovalAmount</th>\n",
       "      <th>ServicingLenderName</th>\n",
       "      <th>ServicingLenderCity</th>\n",
       "      <th>...</th>\n",
       "      <th>Revised_Loan_Amount</th>\n",
       "      <th>Days_With_Loan</th>\n",
       "      <th>Borrower_ZIP5</th>\n",
       "      <th>Servicing_Lender_ZIP5</th>\n",
       "      <th>Predicted_Loan_Amount_Owed</th>\n",
       "      <th>Actual_Loan_Amount_Owed</th>\n",
       "      <th>Residuals</th>\n",
       "      <th>standardized_residual</th>\n",
       "      <th>percentile</th>\n",
       "      <th>Fraud_Detection</th>\n",
       "    </tr>\n",
       "  </thead>\n",
       "  <tbody>\n",
       "    <tr>\n",
       "      <th>0</th>\n",
       "      <td>5502308207</td>\n",
       "      <td>2020-08-08</td>\n",
       "      <td>KAKIVIK ASSET MANAGEMENT, LLC</td>\n",
       "      <td>ANCHORAGE</td>\n",
       "      <td>AK</td>\n",
       "      <td>60</td>\n",
       "      <td>9571397.00</td>\n",
       "      <td>9538531.00</td>\n",
       "      <td>Northrim Bank</td>\n",
       "      <td>ANCHORAGE</td>\n",
       "      <td>...</td>\n",
       "      <td>-32866.0</td>\n",
       "      <td>307</td>\n",
       "      <td>99503</td>\n",
       "      <td>99503</td>\n",
       "      <td>5118.443359</td>\n",
       "      <td>77353.57</td>\n",
       "      <td>7.223513e+04</td>\n",
       "      <td>0.000019</td>\n",
       "      <td>0.993723</td>\n",
       "      <td>Fraud</td>\n",
       "    </tr>\n",
       "    <tr>\n",
       "      <th>1</th>\n",
       "      <td>6110847106</td>\n",
       "      <td>2020-04-14</td>\n",
       "      <td>ARCTIC SLOPE NATIVE ASSOCIATION, LTD.</td>\n",
       "      <td>BARROW</td>\n",
       "      <td>AK</td>\n",
       "      <td>24</td>\n",
       "      <td>7666768.00</td>\n",
       "      <td>7666768.00</td>\n",
       "      <td>National Cooperative Bank, National Association</td>\n",
       "      <td>HILLSBORO</td>\n",
       "      <td>...</td>\n",
       "      <td>0.0</td>\n",
       "      <td>455</td>\n",
       "      <td>99723</td>\n",
       "      <td>45133</td>\n",
       "      <td>-6678.593262</td>\n",
       "      <td>94556.81</td>\n",
       "      <td>1.012354e+05</td>\n",
       "      <td>0.000026</td>\n",
       "      <td>0.996344</td>\n",
       "      <td>Fraud</td>\n",
       "    </tr>\n",
       "    <tr>\n",
       "      <th>2</th>\n",
       "      <td>4539098204</td>\n",
       "      <td>2020-08-06</td>\n",
       "      <td>CORVUS AIRLINES INC</td>\n",
       "      <td>Anchorage</td>\n",
       "      <td>AK</td>\n",
       "      <td>60</td>\n",
       "      <td>7398947.89</td>\n",
       "      <td>7398947.89</td>\n",
       "      <td>Idaho First Bank</td>\n",
       "      <td>MCCALL</td>\n",
       "      <td>...</td>\n",
       "      <td>0.0</td>\n",
       "      <td>685</td>\n",
       "      <td>99502</td>\n",
       "      <td>83638</td>\n",
       "      <td>-621164.375000</td>\n",
       "      <td>-2507517.52</td>\n",
       "      <td>-1.886353e+06</td>\n",
       "      <td>-0.000490</td>\n",
       "      <td>0.000185</td>\n",
       "      <td>Fraud</td>\n",
       "    </tr>\n",
       "    <tr>\n",
       "      <th>3</th>\n",
       "      <td>5120868804</td>\n",
       "      <td>2021-04-17</td>\n",
       "      <td>HOPE COMMUNITY RESOURCES INC.</td>\n",
       "      <td>Anchorage</td>\n",
       "      <td>AK</td>\n",
       "      <td>60</td>\n",
       "      <td>7223025.00</td>\n",
       "      <td>7223025.00</td>\n",
       "      <td>First National Bank Alaska</td>\n",
       "      <td>ANCHORAGE</td>\n",
       "      <td>...</td>\n",
       "      <td>0.0</td>\n",
       "      <td>514</td>\n",
       "      <td>99518</td>\n",
       "      <td>99503</td>\n",
       "      <td>-244771.453125</td>\n",
       "      <td>98945.55</td>\n",
       "      <td>3.437170e+05</td>\n",
       "      <td>0.000089</td>\n",
       "      <td>0.999734</td>\n",
       "      <td>Fraud</td>\n",
       "    </tr>\n",
       "    <tr>\n",
       "      <th>4</th>\n",
       "      <td>6650277102</td>\n",
       "      <td>2020-04-14</td>\n",
       "      <td>SOUTH PENINSULA HOSPITAL INC</td>\n",
       "      <td>HOMER</td>\n",
       "      <td>AK</td>\n",
       "      <td>24</td>\n",
       "      <td>6528631.40</td>\n",
       "      <td>6528631.40</td>\n",
       "      <td>First National Bank Alaska</td>\n",
       "      <td>ANCHORAGE</td>\n",
       "      <td>...</td>\n",
       "      <td>0.0</td>\n",
       "      <td>399</td>\n",
       "      <td>99603</td>\n",
       "      <td>99503</td>\n",
       "      <td>50304.535156</td>\n",
       "      <td>69757.98</td>\n",
       "      <td>1.945344e+04</td>\n",
       "      <td>0.000005</td>\n",
       "      <td>0.951551</td>\n",
       "      <td>Not Fraud</td>\n",
       "    </tr>\n",
       "  </tbody>\n",
       "</table>\n",
       "<p>5 rows × 38 columns</p>\n",
       "</div>"
      ],
      "text/plain": [
       "   LoanNumber DateApproved                           BorrowerName  \\\n",
       "0  5502308207   2020-08-08          KAKIVIK ASSET MANAGEMENT, LLC   \n",
       "1  6110847106   2020-04-14  ARCTIC SLOPE NATIVE ASSOCIATION, LTD.   \n",
       "2  4539098204   2020-08-06                    CORVUS AIRLINES INC   \n",
       "3  5120868804   2021-04-17          HOPE COMMUNITY RESOURCES INC.   \n",
       "4  6650277102   2020-04-14           SOUTH PENINSULA HOSPITAL INC   \n",
       "\n",
       "  BorrowerCity BorrowerState  Term  InitialApprovalAmount  \\\n",
       "0    ANCHORAGE            AK    60             9571397.00   \n",
       "1       BARROW            AK    24             7666768.00   \n",
       "2    Anchorage            AK    60             7398947.89   \n",
       "3    Anchorage            AK    60             7223025.00   \n",
       "4        HOMER            AK    24             6528631.40   \n",
       "\n",
       "   CurrentApprovalAmount                              ServicingLenderName  \\\n",
       "0             9538531.00                                    Northrim Bank   \n",
       "1             7666768.00  National Cooperative Bank, National Association   \n",
       "2             7398947.89                                 Idaho First Bank   \n",
       "3             7223025.00                       First National Bank Alaska   \n",
       "4             6528631.40                       First National Bank Alaska   \n",
       "\n",
       "  ServicingLenderCity  ... Revised_Loan_Amount Days_With_Loan Borrower_ZIP5  \\\n",
       "0           ANCHORAGE  ...            -32866.0            307         99503   \n",
       "1           HILLSBORO  ...                 0.0            455         99723   \n",
       "2              MCCALL  ...                 0.0            685         99502   \n",
       "3           ANCHORAGE  ...                 0.0            514         99518   \n",
       "4           ANCHORAGE  ...                 0.0            399         99603   \n",
       "\n",
       "  Servicing_Lender_ZIP5 Predicted_Loan_Amount_Owed  Actual_Loan_Amount_Owed  \\\n",
       "0                 99503                5118.443359                 77353.57   \n",
       "1                 45133               -6678.593262                 94556.81   \n",
       "2                 83638             -621164.375000              -2507517.52   \n",
       "3                 99503             -244771.453125                 98945.55   \n",
       "4                 99503               50304.535156                 69757.98   \n",
       "\n",
       "      Residuals  standardized_residual  percentile  Fraud_Detection  \n",
       "0  7.223513e+04               0.000019    0.993723            Fraud  \n",
       "1  1.012354e+05               0.000026    0.996344            Fraud  \n",
       "2 -1.886353e+06              -0.000490    0.000185            Fraud  \n",
       "3  3.437170e+05               0.000089    0.999734            Fraud  \n",
       "4  1.945344e+04               0.000005    0.951551        Not Fraud  \n",
       "\n",
       "[5 rows x 38 columns]"
      ]
     },
     "execution_count": 14,
     "metadata": {},
     "output_type": "execute_result"
    }
   ],
   "source": [
    "final_df_output=final_df.create_final_dataframe(clean_data_df=clean_data_df, fraud_df=fraud_df)\n",
    "final_df_output.head()"
   ]
  }
 ],
 "metadata": {
  "kernelspec": {
   "display_name": "small_biz",
   "language": "python",
   "name": "python3"
  },
  "language_info": {
   "codemirror_mode": {
    "name": "ipython",
    "version": 3
   },
   "file_extension": ".py",
   "mimetype": "text/x-python",
   "name": "python",
   "nbconvert_exporter": "python",
   "pygments_lexer": "ipython3",
   "version": "3.10.8"
  },
  "orig_nbformat": 4,
  "vscode": {
   "interpreter": {
    "hash": "7965ddfa5eda1ca149caf33b29b75c72c5bf73670756d771c8dffa2bc98b485c"
   }
  }
 },
 "nbformat": 4,
 "nbformat_minor": 2
}
