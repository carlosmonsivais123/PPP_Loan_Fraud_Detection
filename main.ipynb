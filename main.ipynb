{
 "cells": [
  {
   "attachments": {},
   "cell_type": "markdown",
   "metadata": {},
   "source": [
    "### Libraries and Modules"
   ]
  },
  {
   "cell_type": "code",
   "execution_count": 1,
   "metadata": {},
   "outputs": [],
   "source": [
    "from Input_Values.input_vars import input_data_location\n",
    "from Read_Data.read_data_df import Read_Data_DF\n",
    "from EDA.eda_outputs import EDA_Outputs\n",
    "\n",
    "import pandas as pd"
   ]
  },
  {
   "attachments": {},
   "cell_type": "markdown",
   "metadata": {},
   "source": [
    "### Calling Modules"
   ]
  },
  {
   "cell_type": "code",
   "execution_count": 2,
   "metadata": {},
   "outputs": [],
   "source": [
    "read_data_df=Read_Data_DF()\n",
    "eda_outputs=EDA_Outputs()"
   ]
  },
  {
   "attachments": {},
   "cell_type": "markdown",
   "metadata": {},
   "source": [
    "### Read In Data"
   ]
  },
  {
   "cell_type": "code",
   "execution_count": 3,
   "metadata": {},
   "outputs": [
    {
     "data": {
      "text/html": [
       "<div>\n",
       "<style scoped>\n",
       "    .dataframe tbody tr th:only-of-type {\n",
       "        vertical-align: middle;\n",
       "    }\n",
       "\n",
       "    .dataframe tbody tr th {\n",
       "        vertical-align: top;\n",
       "    }\n",
       "\n",
       "    .dataframe thead th {\n",
       "        text-align: right;\n",
       "    }\n",
       "</style>\n",
       "<table border=\"1\" class=\"dataframe\">\n",
       "  <thead>\n",
       "    <tr style=\"text-align: right;\">\n",
       "      <th></th>\n",
       "      <th>LoanNumber</th>\n",
       "      <th>DateApproved</th>\n",
       "      <th>SBAOfficeCode</th>\n",
       "      <th>ProcessingMethod</th>\n",
       "      <th>BorrowerName</th>\n",
       "      <th>BorrowerAddress</th>\n",
       "      <th>BorrowerCity</th>\n",
       "      <th>BorrowerState</th>\n",
       "      <th>BorrowerZip</th>\n",
       "      <th>LoanStatusDate</th>\n",
       "      <th>...</th>\n",
       "      <th>BusinessType</th>\n",
       "      <th>OriginatingLenderLocationID</th>\n",
       "      <th>OriginatingLender</th>\n",
       "      <th>OriginatingLenderCity</th>\n",
       "      <th>OriginatingLenderState</th>\n",
       "      <th>Gender</th>\n",
       "      <th>Veteran</th>\n",
       "      <th>NonProfit</th>\n",
       "      <th>ForgivenessAmount</th>\n",
       "      <th>ForgivenessDate</th>\n",
       "    </tr>\n",
       "  </thead>\n",
       "  <tbody>\n",
       "    <tr>\n",
       "      <th>0</th>\n",
       "      <td>9547507704</td>\n",
       "      <td>2020-05-01</td>\n",
       "      <td>0464</td>\n",
       "      <td>PPP</td>\n",
       "      <td>SUMTER COATINGS, INC.</td>\n",
       "      <td>2410 Highway 15 South</td>\n",
       "      <td>Sumter</td>\n",
       "      <td>NaN</td>\n",
       "      <td>29150-9662</td>\n",
       "      <td>2020-12-18</td>\n",
       "      <td>...</td>\n",
       "      <td>Corporation</td>\n",
       "      <td>19248</td>\n",
       "      <td>Synovus Bank</td>\n",
       "      <td>COLUMBUS</td>\n",
       "      <td>GA</td>\n",
       "      <td>Unanswered</td>\n",
       "      <td>Unanswered</td>\n",
       "      <td>NaN</td>\n",
       "      <td>773553.37</td>\n",
       "      <td>2020-11-20</td>\n",
       "    </tr>\n",
       "    <tr>\n",
       "      <th>1</th>\n",
       "      <td>9777677704</td>\n",
       "      <td>2020-05-01</td>\n",
       "      <td>0464</td>\n",
       "      <td>PPP</td>\n",
       "      <td>PLEASANT PLACES, INC.</td>\n",
       "      <td>7684 Southrail Road</td>\n",
       "      <td>North Charleston</td>\n",
       "      <td>NaN</td>\n",
       "      <td>29420-9000</td>\n",
       "      <td>2021-09-28</td>\n",
       "      <td>...</td>\n",
       "      <td>Sole Proprietorship</td>\n",
       "      <td>19248</td>\n",
       "      <td>Synovus Bank</td>\n",
       "      <td>COLUMBUS</td>\n",
       "      <td>GA</td>\n",
       "      <td>Male Owned</td>\n",
       "      <td>Non-Veteran</td>\n",
       "      <td>NaN</td>\n",
       "      <td>746336.24</td>\n",
       "      <td>2021-08-12</td>\n",
       "    </tr>\n",
       "    <tr>\n",
       "      <th>2</th>\n",
       "      <td>5791407702</td>\n",
       "      <td>2020-05-01</td>\n",
       "      <td>1013</td>\n",
       "      <td>PPP</td>\n",
       "      <td>BOYER CHILDREN'S CLINIC</td>\n",
       "      <td>1850 BOYER AVE E</td>\n",
       "      <td>SEATTLE</td>\n",
       "      <td>NaN</td>\n",
       "      <td>98112-2922</td>\n",
       "      <td>2021-03-17</td>\n",
       "      <td>...</td>\n",
       "      <td>Non-Profit Organization</td>\n",
       "      <td>9551</td>\n",
       "      <td>Bank of America, National Association</td>\n",
       "      <td>CHARLOTTE</td>\n",
       "      <td>NC</td>\n",
       "      <td>Unanswered</td>\n",
       "      <td>Unanswered</td>\n",
       "      <td>Y</td>\n",
       "      <td>696677.49</td>\n",
       "      <td>2021-02-10</td>\n",
       "    </tr>\n",
       "    <tr>\n",
       "      <th>3</th>\n",
       "      <td>6223567700</td>\n",
       "      <td>2020-05-01</td>\n",
       "      <td>0920</td>\n",
       "      <td>PPP</td>\n",
       "      <td>KIRTLEY CONSTRUCTION INC</td>\n",
       "      <td>1661 MARTIN RANCH RD</td>\n",
       "      <td>SAN BERNARDINO</td>\n",
       "      <td>NaN</td>\n",
       "      <td>92407-1740</td>\n",
       "      <td>2021-10-16</td>\n",
       "      <td>...</td>\n",
       "      <td>Corporation</td>\n",
       "      <td>9551</td>\n",
       "      <td>Bank of America, National Association</td>\n",
       "      <td>CHARLOTTE</td>\n",
       "      <td>NC</td>\n",
       "      <td>Male Owned</td>\n",
       "      <td>Non-Veteran</td>\n",
       "      <td>NaN</td>\n",
       "      <td>395264.11</td>\n",
       "      <td>2021-09-10</td>\n",
       "    </tr>\n",
       "    <tr>\n",
       "      <th>4</th>\n",
       "      <td>9662437702</td>\n",
       "      <td>2020-05-01</td>\n",
       "      <td>0101</td>\n",
       "      <td>PPP</td>\n",
       "      <td>AERO BOX LLC</td>\n",
       "      <td>NaN</td>\n",
       "      <td>NaN</td>\n",
       "      <td>NaN</td>\n",
       "      <td>NaN</td>\n",
       "      <td>2021-08-17</td>\n",
       "      <td>...</td>\n",
       "      <td>NaN</td>\n",
       "      <td>57328</td>\n",
       "      <td>The Huntington National Bank</td>\n",
       "      <td>COLUMBUS</td>\n",
       "      <td>OH</td>\n",
       "      <td>Unanswered</td>\n",
       "      <td>Unanswered</td>\n",
       "      <td>NaN</td>\n",
       "      <td>370819.35</td>\n",
       "      <td>2021-04-08</td>\n",
       "    </tr>\n",
       "  </tbody>\n",
       "</table>\n",
       "<p>5 rows × 53 columns</p>\n",
       "</div>"
      ],
      "text/plain": [
       "   LoanNumber DateApproved SBAOfficeCode ProcessingMethod  \\\n",
       "0  9547507704   2020-05-01          0464              PPP   \n",
       "1  9777677704   2020-05-01          0464              PPP   \n",
       "2  5791407702   2020-05-01          1013              PPP   \n",
       "3  6223567700   2020-05-01          0920              PPP   \n",
       "4  9662437702   2020-05-01          0101              PPP   \n",
       "\n",
       "               BorrowerName        BorrowerAddress      BorrowerCity  \\\n",
       "0     SUMTER COATINGS, INC.  2410 Highway 15 South            Sumter   \n",
       "1     PLEASANT PLACES, INC.    7684 Southrail Road  North Charleston   \n",
       "2   BOYER CHILDREN'S CLINIC       1850 BOYER AVE E           SEATTLE   \n",
       "3  KIRTLEY CONSTRUCTION INC   1661 MARTIN RANCH RD    SAN BERNARDINO   \n",
       "4              AERO BOX LLC                    NaN               NaN   \n",
       "\n",
       "  BorrowerState BorrowerZip LoanStatusDate  ...             BusinessType  \\\n",
       "0           NaN  29150-9662     2020-12-18  ...              Corporation   \n",
       "1           NaN  29420-9000     2021-09-28  ...      Sole Proprietorship   \n",
       "2           NaN  98112-2922     2021-03-17  ...  Non-Profit Organization   \n",
       "3           NaN  92407-1740     2021-10-16  ...              Corporation   \n",
       "4           NaN         NaN     2021-08-17  ...                      NaN   \n",
       "\n",
       "   OriginatingLenderLocationID                      OriginatingLender  \\\n",
       "0                        19248                           Synovus Bank   \n",
       "1                        19248                           Synovus Bank   \n",
       "2                         9551  Bank of America, National Association   \n",
       "3                         9551  Bank of America, National Association   \n",
       "4                        57328           The Huntington National Bank   \n",
       "\n",
       "   OriginatingLenderCity  OriginatingLenderState      Gender      Veteran  \\\n",
       "0               COLUMBUS                      GA  Unanswered   Unanswered   \n",
       "1               COLUMBUS                      GA  Male Owned  Non-Veteran   \n",
       "2              CHARLOTTE                      NC  Unanswered   Unanswered   \n",
       "3              CHARLOTTE                      NC  Male Owned  Non-Veteran   \n",
       "4               COLUMBUS                      OH  Unanswered   Unanswered   \n",
       "\n",
       "  NonProfit ForgivenessAmount ForgivenessDate  \n",
       "0       NaN         773553.37      2020-11-20  \n",
       "1       NaN         746336.24      2021-08-12  \n",
       "2         Y         696677.49      2021-02-10  \n",
       "3       NaN         395264.11      2021-09-10  \n",
       "4       NaN         370819.35      2021-04-08  \n",
       "\n",
       "[5 rows x 53 columns]"
      ]
     },
     "execution_count": 3,
     "metadata": {},
     "output_type": "execute_result"
    }
   ],
   "source": [
    "original_data_df=read_data_df.data_to_pandas_df(input_data_location=input_data_location)\n",
    "original_data_df.head()"
   ]
  },
  {
   "attachments": {},
   "cell_type": "markdown",
   "metadata": {},
   "source": [
    "### EDA"
   ]
  },
  {
   "cell_type": "code",
   "execution_count": 4,
   "metadata": {},
   "outputs": [
    {
     "data": {
      "image/png": "[encoded data removed]",
      "text/plain": [
       "<Figure size 1500x1500 with 1 Axes>"
      ]
     },
     "metadata": {},
     "output_type": "display_data"
    }
   ],
   "source": [
    "eda_outputs.eda_plots_missing_values_heatmap(data=original_data_df)"
   ]
  },
  {
   "cell_type": "code",
   "execution_count": 5,
   "metadata": {},
   "outputs": [
    {
     "data": {
      "application/vnd.plotly.v1+json": {
       "config": {
        "plotlyServerURL": "https://plot.ly"
       },
       "data": [
        {
         "colorscale": [
          [
           0,
           "rgb(103,0,31)"
          ],
          [
           0.1,
           "rgb(178,24,43)"
          ],
          [
           0.2,
           "rgb(214,96,77)"
          ],
          [
           0.3,
           "rgb(244,165,130)"
          ],
          [
           0.4,
           "rgb(253,219,199)"
          ],
          [
           0.5,
           "rgb(247,247,247)"
          ],
          [
           0.6,
           "rgb(209,229,240)"
          ],
          [
           0.7,
           "rgb(146,197,222)"
          ],
          [
           0.8,
           "rgb(67,147,195)"
          ],
          [
           0.9,
           "rgb(33,102,172)"
          ],
          [
           1,
           "rgb(5,48,97)"
          ]
         ],
         "reversescale": false,
         "showscale": true,
         "type": "heatmap",
         "x": [
          "Term",
          "InitialApprovalAmount",
          "CurrentApprovalAmount",
          "UndisbursedAmount",
          "JobsReported",
          "UTILITIES_PROCEED",
          "PAYROLL_PROCEED",
          "MORTGAGE_INTEREST_PROCEED",
          "RENT_PROCEED",
          "REFINANCE_EIDL_PROCEED",
          "HEALTH_CARE_PROCEED",
          "DEBT_INTEREST_PROCEED",
          "ForgivenessAmount"
         ],
         "xgap": 1,
         "y": [
          "Term",
          "InitialApprovalAmount",
          "CurrentApprovalAmount",
          "UndisbursedAmount",
          "JobsReported",
          "UTILITIES_PROCEED",
          "PAYROLL_PROCEED",
          "MORTGAGE_INTEREST_PROCEED",
          "RENT_PROCEED",
          "REFINANCE_EIDL_PROCEED",
          "HEALTH_CARE_PROCEED",
          "DEBT_INTEREST_PROCEED",
          "ForgivenessAmount"
         ],
         "ygap": 1,
         "z": [
          [
           null,
           null,
           null,
           null,
           null,
           null,
           null,
           null,
           null,
           null,
           null,
           null,
           null
          ],
          [
           -0.06793688382865863,
           null,
           null,
           null,
           null,
           null,
           null,
           null,
           null,
           null,
           null,
           null,
           null
          ],
          [
           -0.06683069568092719,
           0.990092159923929,
           null,
           null,
           null,
           null,
           null,
           null,
           null,
           null,
           null,
           null,
           null
          ],
          [
           0.0014680917346276364,
           0.003789241451464158,
           0.003829682330464812,
           null,
           null,
           null,
           null,
           null,
           null,
           null,
           null,
           null,
           null
          ],
          [
           -0.07598901247539179,
           0.751817121574878,
           0.753827001712848,
           0.00501354862372538,
           null,
           null,
           null,
           null,
           null,
           null,
           null,
           null,
           null
          ],
          [
           -0.23180885630667278,
           0.3548762505979424,
           0.3557514551245765,
           -0.0010557656331309057,
           0.2591311520913727,
           null,
           null,
           null,
           null,
           null,
           null,
           null,
           null
          ],
          [
           -0.05455566902038899,
           0.9845482438245811,
           0.9944584061179909,
           0.0040383808138035404,
           0.7488411688288485,
           0.3259146760625221,
           null,
           null,
           null,
           null,
           null,
           null,
           null
          ],
          [
           0.013378211337613773,
           0.4204962124946551,
           0.42127241219909406,
           null,
           0.33509692882747893,
           0.3805088754256182,
           0.46479833021290223,
           null,
           null,
           null,
           null,
           null,
           null
          ],
          [
           0.01502563731629296,
           0.6433881243047863,
           0.6458700308064793,
           -0.0013147062060242297,
           0.4316953555567515,
           0.3541110053084427,
           0.5800330766796346,
           0.14308231025948662,
           null,
           null,
           null,
           null,
           null
          ],
          [
           0.07206399124728663,
           0.01211023255111806,
           0.015240721798069755,
           null,
           0.00559128088374837,
           0.006707519322494844,
           -0.027066699636294177,
           0.09505647117027537,
           0.002205515942598208,
           null,
           null,
           null,
           null
          ],
          [
           0.006941407551065711,
           0.6805733401637158,
           0.6808302543693547,
           -0.00007542722619504977,
           0.4157399021889066,
           0.23554167775921792,
           0.6298200519376643,
           0.16291815249382186,
           0.3142287279392317,
           -0.003636954376090456,
           null,
           null,
           null
          ],
          [
           0.011181206908178191,
           0.3369923571235433,
           0.3362331221956852,
           null,
           0.2625299622220258,
           0.13804272740573956,
           0.2900054302948943,
           0.1017151752817022,
           0.19680109053612344,
           0.008300226362351662,
           0.210550571740661,
           null,
           null
          ],
          [
           -0.07091571001823095,
           0.984911324519736,
           0.9945289181536615,
           0.00038587980448071316,
           0.7524501041387887,
           0.35429053667964816,
           0.9889014157075595,
           0.4156134270556869,
           0.6416461876886947,
           0.008719558282554931,
           0.6818694612659695,
           0.33958392761321793,
           null
          ]
         ]
        }
       ],
       "layout": {
        "annotations": [
         {
          "font": {
           "color": "#FFFFFF"
          },
          "showarrow": false,
          "text": "",
          "x": "Term",
          "xref": "x",
          "y": "Term",
          "yref": "y"
         },
         {
          "font": {
           "color": "#FFFFFF"
          },
          "showarrow": false,
          "text": "",
          "x": "InitialApprovalAmount",
          "xref": "x",
          "y": "Term",
          "yref": "y"
         },
         {
          "font": {
           "color": "#FFFFFF"
          },
          "showarrow": false,
          "text": "",
          "x": "CurrentApprovalAmount",
          "xref": "x",
          "y": "Term",
          "yref": "y"
         },
         {
          "font": {
           "color": "#FFFFFF"
          },
          "showarrow": false,
          "text": "",
          "x": "UndisbursedAmount",
          "xref": "x",
          "y": "Term",
          "yref": "y"
         },
         {
          "font": {
           "color": "#FFFFFF"
          },
          "showarrow": false,
          "text": "",
          "x": "JobsReported",
          "xref": "x",
          "y": "Term",
          "yref": "y"
         },
         {
          "font": {
           "color": "#FFFFFF"
          },
          "showarrow": false,
          "text": "",
          "x": "UTILITIES_PROCEED",
          "xref": "x",
          "y": "Term",
          "yref": "y"
         },
         {
          "font": {
           "color": "#FFFFFF"
          },
          "showarrow": false,
          "text": "",
          "x": "PAYROLL_PROCEED",
          "xref": "x",
          "y": "Term",
          "yref": "y"
         },
         {
          "font": {
           "color": "#FFFFFF"
          },
          "showarrow": false,
          "text": "",
          "x": "MORTGAGE_INTEREST_PROCEED",
          "xref": "x",
          "y": "Term",
          "yref": "y"
         },
         {
          "font": {
           "color": "#FFFFFF"
          },
          "showarrow": false,
          "text": "",
          "x": "RENT_PROCEED",
          "xref": "x",
          "y": "Term",
          "yref": "y"
         },
         {
          "font": {
           "color": "#FFFFFF"
          },
          "showarrow": false,
          "text": "",
          "x": "REFINANCE_EIDL_PROCEED",
          "xref": "x",
          "y": "Term",
          "yref": "y"
         },
         {
          "font": {
           "color": "#FFFFFF"
          },
          "showarrow": false,
          "text": "",
          "x": "HEALTH_CARE_PROCEED",
          "xref": "x",
          "y": "Term",
          "yref": "y"
         },
         {
          "font": {
           "color": "#FFFFFF"
          },
          "showarrow": false,
          "text": "",
          "x": "DEBT_INTEREST_PROCEED",
          "xref": "x",
          "y": "Term",
          "yref": "y"
         },
         {
          "font": {
           "color": "#FFFFFF"
          },
          "showarrow": false,
          "text": "",
          "x": "ForgivenessAmount",
          "xref": "x",
          "y": "Term",
          "yref": "y"
         },
         {
          "font": {
           "color": "#FFFFFF"
          },
          "showarrow": false,
          "text": "-0.07",
          "x": "Term",
          "xref": "x",
          "y": "InitialApprovalAmount",
          "yref": "y"
         },
         {
          "font": {
           "color": "#FFFFFF"
          },
          "showarrow": false,
          "text": "",
          "x": "InitialApprovalAmount",
          "xref": "x",
          "y": "InitialApprovalAmount",
          "yref": "y"
         },
         {
          "font": {
           "color": "#FFFFFF"
          },
          "showarrow": false,
          "text": "",
          "x": "CurrentApprovalAmount",
          "xref": "x",
          "y": "InitialApprovalAmount",
          "yref": "y"
         },
         {
          "font": {
           "color": "#FFFFFF"
          },
          "showarrow": false,
          "text": "",
          "x": "UndisbursedAmount",
          "xref": "x",
          "y": "InitialApprovalAmount",
          "yref": "y"
         },
         {
          "font": {
           "color": "#FFFFFF"
          },
          "showarrow": false,
          "text": "",
          "x": "JobsReported",
          "xref": "x",
          "y": "InitialApprovalAmount",
          "yref": "y"
         },
         {
          "font": {
           "color": "#FFFFFF"
          },
          "showarrow": false,
          "text": "",
          "x": "UTILITIES_PROCEED",
          "xref": "x",
          "y": "InitialApprovalAmount",
          "yref": "y"
         },
         {
          "font": {
           "color": "#FFFFFF"
          },
          "showarrow": false,
          "text": "",
          "x": "PAYROLL_PROCEED",
          "xref": "x",
          "y": "InitialApprovalAmount",
          "yref": "y"
         },
         {
          "font": {
           "color": "#FFFFFF"
          },
          "showarrow": false,
          "text": "",
          "x": "MORTGAGE_INTEREST_PROCEED",
          "xref": "x",
          "y": "InitialApprovalAmount",
          "yref": "y"
         },
         {
          "font": {
           "color": "#FFFFFF"
          },
          "showarrow": false,
          "text": "",
          "x": "RENT_PROCEED",
          "xref": "x",
          "y": "InitialApprovalAmount",
          "yref": "y"
         },
         {
          "font": {
           "color": "#FFFFFF"
          },
          "showarrow": false,
          "text": "",
          "x": "REFINANCE_EIDL_PROCEED",
          "xref": "x",
          "y": "InitialApprovalAmount",
          "yref": "y"
         },
         {
          "font": {
           "color": "#FFFFFF"
          },
          "showarrow": false,
          "text": "",
          "x": "HEALTH_CARE_PROCEED",
          "xref": "x",
          "y": "InitialApprovalAmount",
          "yref": "y"
         },
         {
          "font": {
           "color": "#FFFFFF"
          },
          "showarrow": false,
          "text": "",
          "x": "DEBT_INTEREST_PROCEED",
          "xref": "x",
          "y": "InitialApprovalAmount",
          "yref": "y"
         },
         {
          "font": {
           "color": "#FFFFFF"
          },
          "showarrow": false,
          "text": "",
          "x": "ForgivenessAmount",
          "xref": "x",
          "y": "InitialApprovalAmount",
          "yref": "y"
         },
         {
          "font": {
           "color": "#FFFFFF"
          },
          "showarrow": false,
          "text": "-0.07",
          "x": "Term",
          "xref": "x",
          "y": "CurrentApprovalAmount",
          "yref": "y"
         },
         {
          "font": {
           "color": "#FFFFFF"
          },
          "showarrow": false,
          "text": "0.99",
          "x": "InitialApprovalAmount",
          "xref": "x",
          "y": "CurrentApprovalAmount",
          "yref": "y"
         },
         {
          "font": {
           "color": "#FFFFFF"
          },
          "showarrow": false,
          "text": "",
          "x": "CurrentApprovalAmount",
          "xref": "x",
          "y": "CurrentApprovalAmount",
          "yref": "y"
         },
         {
          "font": {
           "color": "#FFFFFF"
          },
          "showarrow": false,
          "text": "",
          "x": "UndisbursedAmount",
          "xref": "x",
          "y": "CurrentApprovalAmount",
          "yref": "y"
         },
         {
          "font": {
           "color": "#FFFFFF"
          },
          "showarrow": false,
          "text": "",
          "x": "JobsReported",
          "xref": "x",
          "y": "CurrentApprovalAmount",
          "yref": "y"
         },
         {
          "font": {
           "color": "#FFFFFF"
          },
          "showarrow": false,
          "text": "",
          "x": "UTILITIES_PROCEED",
          "xref": "x",
          "y": "CurrentApprovalAmount",
          "yref": "y"
         },
         {
          "font": {
           "color": "#FFFFFF"
          },
          "showarrow": false,
          "text": "",
          "x": "PAYROLL_PROCEED",
          "xref": "x",
          "y": "CurrentApprovalAmount",
          "yref": "y"
         },
         {
          "font": {
           "color": "#FFFFFF"
          },
          "showarrow": false,
          "text": "",
          "x": "MORTGAGE_INTEREST_PROCEED",
          "xref": "x",
          "y": "CurrentApprovalAmount",
          "yref": "y"
         },
         {
          "font": {
           "color": "#FFFFFF"
          },
          "showarrow": false,
          "text": "",
          "x": "RENT_PROCEED",
          "xref": "x",
          "y": "CurrentApprovalAmount",
          "yref": "y"
         },
         {
          "font": {
           "color": "#FFFFFF"
          },
          "showarrow": false,
          "text": "",
          "x": "REFINANCE_EIDL_PROCEED",
          "xref": "x",
          "y": "CurrentApprovalAmount",
          "yref": "y"
         },
         {
          "font": {
           "color": "#FFFFFF"
          },
          "showarrow": false,
          "text": "",
          "x": "HEALTH_CARE_PROCEED",
          "xref": "x",
          "y": "CurrentApprovalAmount",
          "yref": "y"
         },
         {
          "font": {
           "color": "#FFFFFF"
          },
          "showarrow": false,
          "text": "",
          "x": "DEBT_INTEREST_PROCEED",
          "xref": "x",
          "y": "CurrentApprovalAmount",
          "yref": "y"
         },
         {
          "font": {
           "color": "#FFFFFF"
          },
          "showarrow": false,
          "text": "",
          "x": "ForgivenessAmount",
          "xref": "x",
          "y": "CurrentApprovalAmount",
          "yref": "y"
         },
         {
          "font": {
           "color": "#FFFFFF"
          },
          "showarrow": false,
          "text": "0.0",
          "x": "Term",
          "xref": "x",
          "y": "UndisbursedAmount",
          "yref": "y"
         },
         {
          "font": {
           "color": "#FFFFFF"
          },
          "showarrow": false,
          "text": "0.0",
          "x": "InitialApprovalAmount",
          "xref": "x",
          "y": "UndisbursedAmount",
          "yref": "y"
         },
         {
          "font": {
           "color": "#FFFFFF"
          },
          "showarrow": false,
          "text": "0.0",
          "x": "CurrentApprovalAmount",
          "xref": "x",
          "y": "UndisbursedAmount",
          "yref": "y"
         },
         {
          "font": {
           "color": "#FFFFFF"
          },
          "showarrow": false,
          "text": "",
          "x": "UndisbursedAmount",
          "xref": "x",
          "y": "UndisbursedAmount",
          "yref": "y"
         },
         {
          "font": {
           "color": "#FFFFFF"
          },
          "showarrow": false,
          "text": "",
          "x": "JobsReported",
          "xref": "x",
          "y": "UndisbursedAmount",
          "yref": "y"
         },
         {
          "font": {
           "color": "#FFFFFF"
          },
          "showarrow": false,
          "text": "",
          "x": "UTILITIES_PROCEED",
          "xref": "x",
          "y": "UndisbursedAmount",
          "yref": "y"
         },
         {
          "font": {
           "color": "#FFFFFF"
          },
          "showarrow": false,
          "text": "",
          "x": "PAYROLL_PROCEED",
          "xref": "x",
          "y": "UndisbursedAmount",
          "yref": "y"
         },
         {
          "font": {
           "color": "#FFFFFF"
          },
          "showarrow": false,
          "text": "",
          "x": "MORTGAGE_INTEREST_PROCEED",
          "xref": "x",
          "y": "UndisbursedAmount",
          "yref": "y"
         },
         {
          "font": {
           "color": "#FFFFFF"
          },
          "showarrow": false,
          "text": "",
          "x": "RENT_PROCEED",
          "xref": "x",
          "y": "UndisbursedAmount",
          "yref": "y"
         },
         {
          "font": {
           "color": "#FFFFFF"
          },
          "showarrow": false,
          "text": "",
          "x": "REFINANCE_EIDL_PROCEED",
          "xref": "x",
          "y": "UndisbursedAmount",
          "yref": "y"
         },
         {
          "font": {
           "color": "#FFFFFF"
          },
          "showarrow": false,
          "text": "",
          "x": "HEALTH_CARE_PROCEED",
          "xref": "x",
          "y": "UndisbursedAmount",
          "yref": "y"
         },
         {
          "font": {
           "color": "#FFFFFF"
          },
          "showarrow": false,
          "text": "",
          "x": "DEBT_INTEREST_PROCEED",
          "xref": "x",
          "y": "UndisbursedAmount",
          "yref": "y"
         },
         {
          "font": {
           "color": "#FFFFFF"
          },
          "showarrow": false,
          "text": "",
          "x": "ForgivenessAmount",
          "xref": "x",
          "y": "UndisbursedAmount",
          "yref": "y"
         },
         {
          "font": {
           "color": "#FFFFFF"
          },
          "showarrow": false,
          "text": "-0.08",
          "x": "Term",
          "xref": "x",
          "y": "JobsReported",
          "yref": "y"
         },
         {
          "font": {
           "color": "#FFFFFF"
          },
          "showarrow": false,
          "text": "0.75",
          "x": "InitialApprovalAmount",
          "xref": "x",
          "y": "JobsReported",
          "yref": "y"
         },
         {
          "font": {
           "color": "#FFFFFF"
          },
          "showarrow": false,
          "text": "0.75",
          "x": "CurrentApprovalAmount",
          "xref": "x",
          "y": "JobsReported",
          "yref": "y"
         },
         {
          "font": {
           "color": "#FFFFFF"
          },
          "showarrow": false,
          "text": "0.01",
          "x": "UndisbursedAmount",
          "xref": "x",
          "y": "JobsReported",
          "yref": "y"
         },
         {
          "font": {
           "color": "#FFFFFF"
          },
          "showarrow": false,
          "text": "",
          "x": "JobsReported",
          "xref": "x",
          "y": "JobsReported",
          "yref": "y"
         },
         {
          "font": {
           "color": "#FFFFFF"
          },
          "showarrow": false,
          "text": "",
          "x": "UTILITIES_PROCEED",
          "xref": "x",
          "y": "JobsReported",
          "yref": "y"
         },
         {
          "font": {
           "color": "#FFFFFF"
          },
          "showarrow": false,
          "text": "",
          "x": "PAYROLL_PROCEED",
          "xref": "x",
          "y": "JobsReported",
          "yref": "y"
         },
         {
          "font": {
           "color": "#FFFFFF"
          },
          "showarrow": false,
          "text": "",
          "x": "MORTGAGE_INTEREST_PROCEED",
          "xref": "x",
          "y": "JobsReported",
          "yref": "y"
         },
         {
          "font": {
           "color": "#FFFFFF"
          },
          "showarrow": false,
          "text": "",
          "x": "RENT_PROCEED",
          "xref": "x",
          "y": "JobsReported",
          "yref": "y"
         },
         {
          "font": {
           "color": "#FFFFFF"
          },
          "showarrow": false,
          "text": "",
          "x": "REFINANCE_EIDL_PROCEED",
          "xref": "x",
          "y": "JobsReported",
          "yref": "y"
         },
         {
          "font": {
           "color": "#FFFFFF"
          },
          "showarrow": false,
          "text": "",
          "x": "HEALTH_CARE_PROCEED",
          "xref": "x",
          "y": "JobsReported",
          "yref": "y"
         },
         {
          "font": {
           "color": "#FFFFFF"
          },
          "showarrow": false,
          "text": "",
          "x": "DEBT_INTEREST_PROCEED",
          "xref": "x",
          "y": "JobsReported",
          "yref": "y"
         },
         {
          "font": {
           "color": "#FFFFFF"
          },
          "showarrow": false,
          "text": "",
          "x": "ForgivenessAmount",
          "xref": "x",
          "y": "JobsReported",
          "yref": "y"
         },
         {
          "font": {
           "color": "#FFFFFF"
          },
          "showarrow": false,
          "text": "-0.23",
          "x": "Term",
          "xref": "x",
          "y": "UTILITIES_PROCEED",
          "yref": "y"
         },
         {
          "font": {
           "color": "#FFFFFF"
          },
          "showarrow": false,
          "text": "0.35",
          "x": "InitialApprovalAmount",
          "xref": "x",
          "y": "UTILITIES_PROCEED",
          "yref": "y"
         },
         {
          "font": {
           "color": "#FFFFFF"
          },
          "showarrow": false,
          "text": "0.36",
          "x": "CurrentApprovalAmount",
          "xref": "x",
          "y": "UTILITIES_PROCEED",
          "yref": "y"
         },
         {
          "font": {
           "color": "#FFFFFF"
          },
          "showarrow": false,
          "text": "-0.0",
          "x": "UndisbursedAmount",
          "xref": "x",
          "y": "UTILITIES_PROCEED",
          "yref": "y"
         },
         {
          "font": {
           "color": "#FFFFFF"
          },
          "showarrow": false,
          "text": "0.26",
          "x": "JobsReported",
          "xref": "x",
          "y": "UTILITIES_PROCEED",
          "yref": "y"
         },
         {
          "font": {
           "color": "#FFFFFF"
          },
          "showarrow": false,
          "text": "",
          "x": "UTILITIES_PROCEED",
          "xref": "x",
          "y": "UTILITIES_PROCEED",
          "yref": "y"
         },
         {
          "font": {
           "color": "#FFFFFF"
          },
          "showarrow": false,
          "text": "",
          "x": "PAYROLL_PROCEED",
          "xref": "x",
          "y": "UTILITIES_PROCEED",
          "yref": "y"
         },
         {
          "font": {
           "color": "#FFFFFF"
          },
          "showarrow": false,
          "text": "",
          "x": "MORTGAGE_INTEREST_PROCEED",
          "xref": "x",
          "y": "UTILITIES_PROCEED",
          "yref": "y"
         },
         {
          "font": {
           "color": "#FFFFFF"
          },
          "showarrow": false,
          "text": "",
          "x": "RENT_PROCEED",
          "xref": "x",
          "y": "UTILITIES_PROCEED",
          "yref": "y"
         },
         {
          "font": {
           "color": "#FFFFFF"
          },
          "showarrow": false,
          "text": "",
          "x": "REFINANCE_EIDL_PROCEED",
          "xref": "x",
          "y": "UTILITIES_PROCEED",
          "yref": "y"
         },
         {
          "font": {
           "color": "#FFFFFF"
          },
          "showarrow": false,
          "text": "",
          "x": "HEALTH_CARE_PROCEED",
          "xref": "x",
          "y": "UTILITIES_PROCEED",
          "yref": "y"
         },
         {
          "font": {
           "color": "#FFFFFF"
          },
          "showarrow": false,
          "text": "",
          "x": "DEBT_INTEREST_PROCEED",
          "xref": "x",
          "y": "UTILITIES_PROCEED",
          "yref": "y"
         },
         {
          "font": {
           "color": "#FFFFFF"
          },
          "showarrow": false,
          "text": "",
          "x": "ForgivenessAmount",
          "xref": "x",
          "y": "UTILITIES_PROCEED",
          "yref": "y"
         },
         {
          "font": {
           "color": "#FFFFFF"
          },
          "showarrow": false,
          "text": "-0.05",
          "x": "Term",
          "xref": "x",
          "y": "PAYROLL_PROCEED",
          "yref": "y"
         },
         {
          "font": {
           "color": "#FFFFFF"
          },
          "showarrow": false,
          "text": "0.98",
          "x": "InitialApprovalAmount",
          "xref": "x",
          "y": "PAYROLL_PROCEED",
          "yref": "y"
         },
         {
          "font": {
           "color": "#FFFFFF"
          },
          "showarrow": false,
          "text": "0.99",
          "x": "CurrentApprovalAmount",
          "xref": "x",
          "y": "PAYROLL_PROCEED",
          "yref": "y"
         },
         {
          "font": {
           "color": "#FFFFFF"
          },
          "showarrow": false,
          "text": "0.0",
          "x": "UndisbursedAmount",
          "xref": "x",
          "y": "PAYROLL_PROCEED",
          "yref": "y"
         },
         {
          "font": {
           "color": "#FFFFFF"
          },
          "showarrow": false,
          "text": "0.75",
          "x": "JobsReported",
          "xref": "x",
          "y": "PAYROLL_PROCEED",
          "yref": "y"
         },
         {
          "font": {
           "color": "#FFFFFF"
          },
          "showarrow": false,
          "text": "0.33",
          "x": "UTILITIES_PROCEED",
          "xref": "x",
          "y": "PAYROLL_PROCEED",
          "yref": "y"
         },
         {
          "font": {
           "color": "#FFFFFF"
          },
          "showarrow": false,
          "text": "",
          "x": "PAYROLL_PROCEED",
          "xref": "x",
          "y": "PAYROLL_PROCEED",
          "yref": "y"
         },
         {
          "font": {
           "color": "#FFFFFF"
          },
          "showarrow": false,
          "text": "",
          "x": "MORTGAGE_INTEREST_PROCEED",
          "xref": "x",
          "y": "PAYROLL_PROCEED",
          "yref": "y"
         },
         {
          "font": {
           "color": "#FFFFFF"
          },
          "showarrow": false,
          "text": "",
          "x": "RENT_PROCEED",
          "xref": "x",
          "y": "PAYROLL_PROCEED",
          "yref": "y"
         },
         {
          "font": {
           "color": "#FFFFFF"
          },
          "showarrow": false,
          "text": "",
          "x": "REFINANCE_EIDL_PROCEED",
          "xref": "x",
          "y": "PAYROLL_PROCEED",
          "yref": "y"
         },
         {
          "font": {
           "color": "#FFFFFF"
          },
          "showarrow": false,
          "text": "",
          "x": "HEALTH_CARE_PROCEED",
          "xref": "x",
          "y": "PAYROLL_PROCEED",
          "yref": "y"
         },
         {
          "font": {
           "color": "#FFFFFF"
          },
          "showarrow": false,
          "text": "",
          "x": "DEBT_INTEREST_PROCEED",
          "xref": "x",
          "y": "PAYROLL_PROCEED",
          "yref": "y"
         },
         {
          "font": {
           "color": "#FFFFFF"
          },
          "showarrow": false,
          "text": "",
          "x": "ForgivenessAmount",
          "xref": "x",
          "y": "PAYROLL_PROCEED",
          "yref": "y"
         },
         {
          "font": {
           "color": "#FFFFFF"
          },
          "showarrow": false,
          "text": "0.01",
          "x": "Term",
          "xref": "x",
          "y": "MORTGAGE_INTEREST_PROCEED",
          "yref": "y"
         },
         {
          "font": {
           "color": "#FFFFFF"
          },
          "showarrow": false,
          "text": "0.42",
          "x": "InitialApprovalAmount",
          "xref": "x",
          "y": "MORTGAGE_INTEREST_PROCEED",
          "yref": "y"
         },
         {
          "font": {
           "color": "#FFFFFF"
          },
          "showarrow": false,
          "text": "0.42",
          "x": "CurrentApprovalAmount",
          "xref": "x",
          "y": "MORTGAGE_INTEREST_PROCEED",
          "yref": "y"
         },
         {
          "font": {
           "color": "#FFFFFF"
          },
          "showarrow": false,
          "text": "",
          "x": "UndisbursedAmount",
          "xref": "x",
          "y": "MORTGAGE_INTEREST_PROCEED",
          "yref": "y"
         },
         {
          "font": {
           "color": "#FFFFFF"
          },
          "showarrow": false,
          "text": "0.34",
          "x": "JobsReported",
          "xref": "x",
          "y": "MORTGAGE_INTEREST_PROCEED",
          "yref": "y"
         },
         {
          "font": {
           "color": "#FFFFFF"
          },
          "showarrow": false,
          "text": "0.38",
          "x": "UTILITIES_PROCEED",
          "xref": "x",
          "y": "MORTGAGE_INTEREST_PROCEED",
          "yref": "y"
         },
         {
          "font": {
           "color": "#FFFFFF"
          },
          "showarrow": false,
          "text": "0.46",
          "x": "PAYROLL_PROCEED",
          "xref": "x",
          "y": "MORTGAGE_INTEREST_PROCEED",
          "yref": "y"
         },
         {
          "font": {
           "color": "#FFFFFF"
          },
          "showarrow": false,
          "text": "",
          "x": "MORTGAGE_INTEREST_PROCEED",
          "xref": "x",
          "y": "MORTGAGE_INTEREST_PROCEED",
          "yref": "y"
         },
         {
          "font": {
           "color": "#FFFFFF"
          },
          "showarrow": false,
          "text": "",
          "x": "RENT_PROCEED",
          "xref": "x",
          "y": "MORTGAGE_INTEREST_PROCEED",
          "yref": "y"
         },
         {
          "font": {
           "color": "#FFFFFF"
          },
          "showarrow": false,
          "text": "",
          "x": "REFINANCE_EIDL_PROCEED",
          "xref": "x",
          "y": "MORTGAGE_INTEREST_PROCEED",
          "yref": "y"
         },
         {
          "font": {
           "color": "#FFFFFF"
          },
          "showarrow": false,
          "text": "",
          "x": "HEALTH_CARE_PROCEED",
          "xref": "x",
          "y": "MORTGAGE_INTEREST_PROCEED",
          "yref": "y"
         },
         {
          "font": {
           "color": "#FFFFFF"
          },
          "showarrow": false,
          "text": "",
          "x": "DEBT_INTEREST_PROCEED",
          "xref": "x",
          "y": "MORTGAGE_INTEREST_PROCEED",
          "yref": "y"
         },
         {
          "font": {
           "color": "#FFFFFF"
          },
          "showarrow": false,
          "text": "",
          "x": "ForgivenessAmount",
          "xref": "x",
          "y": "MORTGAGE_INTEREST_PROCEED",
          "yref": "y"
         },
         {
          "font": {
           "color": "#FFFFFF"
          },
          "showarrow": false,
          "text": "0.02",
          "x": "Term",
          "xref": "x",
          "y": "RENT_PROCEED",
          "yref": "y"
         },
         {
          "font": {
           "color": "#FFFFFF"
          },
          "showarrow": false,
          "text": "0.64",
          "x": "InitialApprovalAmount",
          "xref": "x",
          "y": "RENT_PROCEED",
          "yref": "y"
         },
         {
          "font": {
           "color": "#FFFFFF"
          },
          "showarrow": false,
          "text": "0.65",
          "x": "CurrentApprovalAmount",
          "xref": "x",
          "y": "RENT_PROCEED",
          "yref": "y"
         },
         {
          "font": {
           "color": "#FFFFFF"
          },
          "showarrow": false,
          "text": "-0.0",
          "x": "UndisbursedAmount",
          "xref": "x",
          "y": "RENT_PROCEED",
          "yref": "y"
         },
         {
          "font": {
           "color": "#FFFFFF"
          },
          "showarrow": false,
          "text": "0.43",
          "x": "JobsReported",
          "xref": "x",
          "y": "RENT_PROCEED",
          "yref": "y"
         },
         {
          "font": {
           "color": "#FFFFFF"
          },
          "showarrow": false,
          "text": "0.35",
          "x": "UTILITIES_PROCEED",
          "xref": "x",
          "y": "RENT_PROCEED",
          "yref": "y"
         },
         {
          "font": {
           "color": "#FFFFFF"
          },
          "showarrow": false,
          "text": "0.58",
          "x": "PAYROLL_PROCEED",
          "xref": "x",
          "y": "RENT_PROCEED",
          "yref": "y"
         },
         {
          "font": {
           "color": "#FFFFFF"
          },
          "showarrow": false,
          "text": "0.14",
          "x": "MORTGAGE_INTEREST_PROCEED",
          "xref": "x",
          "y": "RENT_PROCEED",
          "yref": "y"
         },
         {
          "font": {
           "color": "#FFFFFF"
          },
          "showarrow": false,
          "text": "",
          "x": "RENT_PROCEED",
          "xref": "x",
          "y": "RENT_PROCEED",
          "yref": "y"
         },
         {
          "font": {
           "color": "#FFFFFF"
          },
          "showarrow": false,
          "text": "",
          "x": "REFINANCE_EIDL_PROCEED",
          "xref": "x",
          "y": "RENT_PROCEED",
          "yref": "y"
         },
         {
          "font": {
           "color": "#FFFFFF"
          },
          "showarrow": false,
          "text": "",
          "x": "HEALTH_CARE_PROCEED",
          "xref": "x",
          "y": "RENT_PROCEED",
          "yref": "y"
         },
         {
          "font": {
           "color": "#FFFFFF"
          },
          "showarrow": false,
          "text": "",
          "x": "DEBT_INTEREST_PROCEED",
          "xref": "x",
          "y": "RENT_PROCEED",
          "yref": "y"
         },
         {
          "font": {
           "color": "#FFFFFF"
          },
          "showarrow": false,
          "text": "",
          "x": "ForgivenessAmount",
          "xref": "x",
          "y": "RENT_PROCEED",
          "yref": "y"
         },
         {
          "font": {
           "color": "#FFFFFF"
          },
          "showarrow": false,
          "text": "0.07",
          "x": "Term",
          "xref": "x",
          "y": "REFINANCE_EIDL_PROCEED",
          "yref": "y"
         },
         {
          "font": {
           "color": "#FFFFFF"
          },
          "showarrow": false,
          "text": "0.01",
          "x": "InitialApprovalAmount",
          "xref": "x",
          "y": "REFINANCE_EIDL_PROCEED",
          "yref": "y"
         },
         {
          "font": {
           "color": "#FFFFFF"
          },
          "showarrow": false,
          "text": "0.02",
          "x": "CurrentApprovalAmount",
          "xref": "x",
          "y": "REFINANCE_EIDL_PROCEED",
          "yref": "y"
         },
         {
          "font": {
           "color": "#FFFFFF"
          },
          "showarrow": false,
          "text": "",
          "x": "UndisbursedAmount",
          "xref": "x",
          "y": "REFINANCE_EIDL_PROCEED",
          "yref": "y"
         },
         {
          "font": {
           "color": "#FFFFFF"
          },
          "showarrow": false,
          "text": "0.01",
          "x": "JobsReported",
          "xref": "x",
          "y": "REFINANCE_EIDL_PROCEED",
          "yref": "y"
         },
         {
          "font": {
           "color": "#FFFFFF"
          },
          "showarrow": false,
          "text": "0.01",
          "x": "UTILITIES_PROCEED",
          "xref": "x",
          "y": "REFINANCE_EIDL_PROCEED",
          "yref": "y"
         },
         {
          "font": {
           "color": "#FFFFFF"
          },
          "showarrow": false,
          "text": "-0.03",
          "x": "PAYROLL_PROCEED",
          "xref": "x",
          "y": "REFINANCE_EIDL_PROCEED",
          "yref": "y"
         },
         {
          "font": {
           "color": "#FFFFFF"
          },
          "showarrow": false,
          "text": "0.1",
          "x": "MORTGAGE_INTEREST_PROCEED",
          "xref": "x",
          "y": "REFINANCE_EIDL_PROCEED",
          "yref": "y"
         },
         {
          "font": {
           "color": "#FFFFFF"
          },
          "showarrow": false,
          "text": "0.0",
          "x": "RENT_PROCEED",
          "xref": "x",
          "y": "REFINANCE_EIDL_PROCEED",
          "yref": "y"
         },
         {
          "font": {
           "color": "#FFFFFF"
          },
          "showarrow": false,
          "text": "",
          "x": "REFINANCE_EIDL_PROCEED",
          "xref": "x",
          "y": "REFINANCE_EIDL_PROCEED",
          "yref": "y"
         },
         {
          "font": {
           "color": "#FFFFFF"
          },
          "showarrow": false,
          "text": "",
          "x": "HEALTH_CARE_PROCEED",
          "xref": "x",
          "y": "REFINANCE_EIDL_PROCEED",
          "yref": "y"
         },
         {
          "font": {
           "color": "#FFFFFF"
          },
          "showarrow": false,
          "text": "",
          "x": "DEBT_INTEREST_PROCEED",
          "xref": "x",
          "y": "REFINANCE_EIDL_PROCEED",
          "yref": "y"
         },
         {
          "font": {
           "color": "#FFFFFF"
          },
          "showarrow": false,
          "text": "",
          "x": "ForgivenessAmount",
          "xref": "x",
          "y": "REFINANCE_EIDL_PROCEED",
          "yref": "y"
         },
         {
          "font": {
           "color": "#FFFFFF"
          },
          "showarrow": false,
          "text": "0.01",
          "x": "Term",
          "xref": "x",
          "y": "HEALTH_CARE_PROCEED",
          "yref": "y"
         },
         {
          "font": {
           "color": "#FFFFFF"
          },
          "showarrow": false,
          "text": "0.68",
          "x": "InitialApprovalAmount",
          "xref": "x",
          "y": "HEALTH_CARE_PROCEED",
          "yref": "y"
         },
         {
          "font": {
           "color": "#FFFFFF"
          },
          "showarrow": false,
          "text": "0.68",
          "x": "CurrentApprovalAmount",
          "xref": "x",
          "y": "HEALTH_CARE_PROCEED",
          "yref": "y"
         },
         {
          "font": {
           "color": "#FFFFFF"
          },
          "showarrow": false,
          "text": "-0.0",
          "x": "UndisbursedAmount",
          "xref": "x",
          "y": "HEALTH_CARE_PROCEED",
          "yref": "y"
         },
         {
          "font": {
           "color": "#FFFFFF"
          },
          "showarrow": false,
          "text": "0.42",
          "x": "JobsReported",
          "xref": "x",
          "y": "HEALTH_CARE_PROCEED",
          "yref": "y"
         },
         {
          "font": {
           "color": "#FFFFFF"
          },
          "showarrow": false,
          "text": "0.24",
          "x": "UTILITIES_PROCEED",
          "xref": "x",
          "y": "HEALTH_CARE_PROCEED",
          "yref": "y"
         },
         {
          "font": {
           "color": "#FFFFFF"
          },
          "showarrow": false,
          "text": "0.63",
          "x": "PAYROLL_PROCEED",
          "xref": "x",
          "y": "HEALTH_CARE_PROCEED",
          "yref": "y"
         },
         {
          "font": {
           "color": "#FFFFFF"
          },
          "showarrow": false,
          "text": "0.16",
          "x": "MORTGAGE_INTEREST_PROCEED",
          "xref": "x",
          "y": "HEALTH_CARE_PROCEED",
          "yref": "y"
         },
         {
          "font": {
           "color": "#FFFFFF"
          },
          "showarrow": false,
          "text": "0.31",
          "x": "RENT_PROCEED",
          "xref": "x",
          "y": "HEALTH_CARE_PROCEED",
          "yref": "y"
         },
         {
          "font": {
           "color": "#FFFFFF"
          },
          "showarrow": false,
          "text": "-0.0",
          "x": "REFINANCE_EIDL_PROCEED",
          "xref": "x",
          "y": "HEALTH_CARE_PROCEED",
          "yref": "y"
         },
         {
          "font": {
           "color": "#FFFFFF"
          },
          "showarrow": false,
          "text": "",
          "x": "HEALTH_CARE_PROCEED",
          "xref": "x",
          "y": "HEALTH_CARE_PROCEED",
          "yref": "y"
         },
         {
          "font": {
           "color": "#FFFFFF"
          },
          "showarrow": false,
          "text": "",
          "x": "DEBT_INTEREST_PROCEED",
          "xref": "x",
          "y": "HEALTH_CARE_PROCEED",
          "yref": "y"
         },
         {
          "font": {
           "color": "#FFFFFF"
          },
          "showarrow": false,
          "text": "",
          "x": "ForgivenessAmount",
          "xref": "x",
          "y": "HEALTH_CARE_PROCEED",
          "yref": "y"
         },
         {
          "font": {
           "color": "#FFFFFF"
          },
          "showarrow": false,
          "text": "0.01",
          "x": "Term",
          "xref": "x",
          "y": "DEBT_INTEREST_PROCEED",
          "yref": "y"
         },
         {
          "font": {
           "color": "#FFFFFF"
          },
          "showarrow": false,
          "text": "0.34",
          "x": "InitialApprovalAmount",
          "xref": "x",
          "y": "DEBT_INTEREST_PROCEED",
          "yref": "y"
         },
         {
          "font": {
           "color": "#FFFFFF"
          },
          "showarrow": false,
          "text": "0.34",
          "x": "CurrentApprovalAmount",
          "xref": "x",
          "y": "DEBT_INTEREST_PROCEED",
          "yref": "y"
         },
         {
          "font": {
           "color": "#FFFFFF"
          },
          "showarrow": false,
          "text": "",
          "x": "UndisbursedAmount",
          "xref": "x",
          "y": "DEBT_INTEREST_PROCEED",
          "yref": "y"
         },
         {
          "font": {
           "color": "#FFFFFF"
          },
          "showarrow": false,
          "text": "0.26",
          "x": "JobsReported",
          "xref": "x",
          "y": "DEBT_INTEREST_PROCEED",
          "yref": "y"
         },
         {
          "font": {
           "color": "#FFFFFF"
          },
          "showarrow": false,
          "text": "0.14",
          "x": "UTILITIES_PROCEED",
          "xref": "x",
          "y": "DEBT_INTEREST_PROCEED",
          "yref": "y"
         },
         {
          "font": {
           "color": "#FFFFFF"
          },
          "showarrow": false,
          "text": "0.29",
          "x": "PAYROLL_PROCEED",
          "xref": "x",
          "y": "DEBT_INTEREST_PROCEED",
          "yref": "y"
         },
         {
          "font": {
           "color": "#FFFFFF"
          },
          "showarrow": false,
          "text": "0.1",
          "x": "MORTGAGE_INTEREST_PROCEED",
          "xref": "x",
          "y": "DEBT_INTEREST_PROCEED",
          "yref": "y"
         },
         {
          "font": {
           "color": "#FFFFFF"
          },
          "showarrow": false,
          "text": "0.2",
          "x": "RENT_PROCEED",
          "xref": "x",
          "y": "DEBT_INTEREST_PROCEED",
          "yref": "y"
         },
         {
          "font": {
           "color": "#FFFFFF"
          },
          "showarrow": false,
          "text": "0.01",
          "x": "REFINANCE_EIDL_PROCEED",
          "xref": "x",
          "y": "DEBT_INTEREST_PROCEED",
          "yref": "y"
         },
         {
          "font": {
           "color": "#FFFFFF"
          },
          "showarrow": false,
          "text": "0.21",
          "x": "HEALTH_CARE_PROCEED",
          "xref": "x",
          "y": "DEBT_INTEREST_PROCEED",
          "yref": "y"
         },
         {
          "font": {
           "color": "#FFFFFF"
          },
          "showarrow": false,
          "text": "",
          "x": "DEBT_INTEREST_PROCEED",
          "xref": "x",
          "y": "DEBT_INTEREST_PROCEED",
          "yref": "y"
         },
         {
          "font": {
           "color": "#FFFFFF"
          },
          "showarrow": false,
          "text": "",
          "x": "ForgivenessAmount",
          "xref": "x",
          "y": "DEBT_INTEREST_PROCEED",
          "yref": "y"
         },
         {
          "font": {
           "color": "#FFFFFF"
          },
          "showarrow": false,
          "text": "-0.07",
          "x": "Term",
          "xref": "x",
          "y": "ForgivenessAmount",
          "yref": "y"
         },
         {
          "font": {
           "color": "#FFFFFF"
          },
          "showarrow": false,
          "text": "0.98",
          "x": "InitialApprovalAmount",
          "xref": "x",
          "y": "ForgivenessAmount",
          "yref": "y"
         },
         {
          "font": {
           "color": "#FFFFFF"
          },
          "showarrow": false,
          "text": "0.99",
          "x": "CurrentApprovalAmount",
          "xref": "x",
          "y": "ForgivenessAmount",
          "yref": "y"
         },
         {
          "font": {
           "color": "#FFFFFF"
          },
          "showarrow": false,
          "text": "0.0",
          "x": "UndisbursedAmount",
          "xref": "x",
          "y": "ForgivenessAmount",
          "yref": "y"
         },
         {
          "font": {
           "color": "#FFFFFF"
          },
          "showarrow": false,
          "text": "0.75",
          "x": "JobsReported",
          "xref": "x",
          "y": "ForgivenessAmount",
          "yref": "y"
         },
         {
          "font": {
           "color": "#FFFFFF"
          },
          "showarrow": false,
          "text": "0.35",
          "x": "UTILITIES_PROCEED",
          "xref": "x",
          "y": "ForgivenessAmount",
          "yref": "y"
         },
         {
          "font": {
           "color": "#FFFFFF"
          },
          "showarrow": false,
          "text": "0.99",
          "x": "PAYROLL_PROCEED",
          "xref": "x",
          "y": "ForgivenessAmount",
          "yref": "y"
         },
         {
          "font": {
           "color": "#FFFFFF"
          },
          "showarrow": false,
          "text": "0.42",
          "x": "MORTGAGE_INTEREST_PROCEED",
          "xref": "x",
          "y": "ForgivenessAmount",
          "yref": "y"
         },
         {
          "font": {
           "color": "#FFFFFF"
          },
          "showarrow": false,
          "text": "0.64",
          "x": "RENT_PROCEED",
          "xref": "x",
          "y": "ForgivenessAmount",
          "yref": "y"
         },
         {
          "font": {
           "color": "#FFFFFF"
          },
          "showarrow": false,
          "text": "0.01",
          "x": "REFINANCE_EIDL_PROCEED",
          "xref": "x",
          "y": "ForgivenessAmount",
          "yref": "y"
         },
         {
          "font": {
           "color": "#FFFFFF"
          },
          "showarrow": false,
          "text": "0.68",
          "x": "HEALTH_CARE_PROCEED",
          "xref": "x",
          "y": "ForgivenessAmount",
          "yref": "y"
         },
         {
          "font": {
           "color": "#FFFFFF"
          },
          "showarrow": false,
          "text": "0.34",
          "x": "DEBT_INTEREST_PROCEED",
          "xref": "x",
          "y": "ForgivenessAmount",
          "yref": "y"
         },
         {
          "font": {
           "color": "#FFFFFF"
          },
          "showarrow": false,
          "text": "",
          "x": "ForgivenessAmount",
          "xref": "x",
          "y": "ForgivenessAmount",
          "yref": "y"
         }
        ],
        "height": 1000,
        "template": {
         "data": {
          "bar": [
           {
            "error_x": {
             "color": "#2a3f5f"
            },
            "error_y": {
             "color": "#2a3f5f"
            },
            "marker": {
             "line": {
              "color": "white",
              "width": 0.5
             },
             "pattern": {
              "fillmode": "overlay",
              "size": 10,
              "solidity": 0.2
             }
            },
            "type": "bar"
           }
          ],
          "barpolar": [
           {
            "marker": {
             "line": {
              "color": "white",
              "width": 0.5
             },
             "pattern": {
              "fillmode": "overlay",
              "size": 10,
              "solidity": 0.2
             }
            },
            "type": "barpolar"
           }
          ],
          "carpet": [
           {
            "aaxis": {
             "endlinecolor": "#2a3f5f",
             "gridcolor": "#C8D4E3",
             "linecolor": "#C8D4E3",
             "minorgridcolor": "#C8D4E3",
             "startlinecolor": "#2a3f5f"
            },
            "baxis": {
             "endlinecolor": "#2a3f5f",
             "gridcolor": "#C8D4E3",
             "linecolor": "#C8D4E3",
             "minorgridcolor": "#C8D4E3",
             "startlinecolor": "#2a3f5f"
            },
            "type": "carpet"
           }
          ],
          "choropleth": [
           {
            "colorbar": {
             "outlinewidth": 0,
             "ticks": ""
            },
            "type": "choropleth"
           }
          ],
          "contour": [
           {
            "colorbar": {
             "outlinewidth": 0,
             "ticks": ""
            },
            "colorscale": [
             [
              0,
              "#0d0887"
             ],
             [
              0.1111111111111111,
              "#46039f"
             ],
             [
              0.2222222222222222,
              "#7201a8"
             ],
             [
              0.3333333333333333,
              "#9c179e"
             ],
             [
              0.4444444444444444,
              "#bd3786"
             ],
             [
              0.5555555555555556,
              "#d8576b"
             ],
             [
              0.6666666666666666,
              "#ed7953"
             ],
             [
              0.7777777777777778,
              "#fb9f3a"
             ],
             [
              0.8888888888888888,
              "#fdca26"
             ],
             [
              1,
              "#f0f921"
             ]
            ],
            "type": "contour"
           }
          ],
          "contourcarpet": [
           {
            "colorbar": {
             "outlinewidth": 0,
             "ticks": ""
            },
            "type": "contourcarpet"
           }
          ],
          "heatmap": [
           {
            "colorbar": {
             "outlinewidth": 0,
             "ticks": ""
            },
            "colorscale": [
             [
              0,
              "#0d0887"
             ],
             [
              0.1111111111111111,
              "#46039f"
             ],
             [
              0.2222222222222222,
              "#7201a8"
             ],
             [
              0.3333333333333333,
              "#9c179e"
             ],
             [
              0.4444444444444444,
              "#bd3786"
             ],
             [
              0.5555555555555556,
              "#d8576b"
             ],
             [
              0.6666666666666666,
              "#ed7953"
             ],
             [
              0.7777777777777778,
              "#fb9f3a"
             ],
             [
              0.8888888888888888,
              "#fdca26"
             ],
             [
              1,
              "#f0f921"
             ]
            ],
            "type": "heatmap"
           }
          ],
          "heatmapgl": [
           {
            "colorbar": {
             "outlinewidth": 0,
             "ticks": ""
            },
            "colorscale": [
             [
              0,
              "#0d0887"
             ],
             [
              0.1111111111111111,
              "#46039f"
             ],
             [
              0.2222222222222222,
              "#7201a8"
             ],
             [
              0.3333333333333333,
              "#9c179e"
             ],
             [
              0.4444444444444444,
              "#bd3786"
             ],
             [
              0.5555555555555556,
              "#d8576b"
             ],
             [
              0.6666666666666666,
              "#ed7953"
             ],
             [
              0.7777777777777778,
              "#fb9f3a"
             ],
             [
              0.8888888888888888,
              "#fdca26"
             ],
             [
              1,
              "#f0f921"
             ]
            ],
            "type": "heatmapgl"
           }
          ],
          "histogram": [
           {
            "marker": {
             "pattern": {
              "fillmode": "overlay",
              "size": 10,
              "solidity": 0.2
             }
            },
            "type": "histogram"
           }
          ],
          "histogram2d": [
           {
            "colorbar": {
             "outlinewidth": 0,
             "ticks": ""
            },
            "colorscale": [
             [
              0,
              "#0d0887"
             ],
             [
              0.1111111111111111,
              "#46039f"
             ],
             [
              0.2222222222222222,
              "#7201a8"
             ],
             [
              0.3333333333333333,
              "#9c179e"
             ],
             [
              0.4444444444444444,
              "#bd3786"
             ],
             [
              0.5555555555555556,
              "#d8576b"
             ],
             [
              0.6666666666666666,
              "#ed7953"
             ],
             [
              0.7777777777777778,
              "#fb9f3a"
             ],
             [
              0.8888888888888888,
              "#fdca26"
             ],
             [
              1,
              "#f0f921"
             ]
            ],
            "type": "histogram2d"
           }
          ],
          "histogram2dcontour": [
           {
            "colorbar": {
             "outlinewidth": 0,
             "ticks": ""
            },
            "colorscale": [
             [
              0,
              "#0d0887"
             ],
             [
              0.1111111111111111,
              "#46039f"
             ],
             [
              0.2222222222222222,
              "#7201a8"
             ],
             [
              0.3333333333333333,
              "#9c179e"
             ],
             [
              0.4444444444444444,
              "#bd3786"
             ],
             [
              0.5555555555555556,
              "#d8576b"
             ],
             [
              0.6666666666666666,
              "#ed7953"
             ],
             [
              0.7777777777777778,
              "#fb9f3a"
             ],
             [
              0.8888888888888888,
              "#fdca26"
             ],
             [
              1,
              "#f0f921"
             ]
            ],
            "type": "histogram2dcontour"
           }
          ],
          "mesh3d": [
           {
            "colorbar": {
             "outlinewidth": 0,
             "ticks": ""
            },
            "type": "mesh3d"
           }
          ],
          "parcoords": [
           {
            "line": {
             "colorbar": {
              "outlinewidth": 0,
              "ticks": ""
             }
            },
            "type": "parcoords"
           }
          ],
          "pie": [
           {
            "automargin": true,
            "type": "pie"
           }
          ],
          "scatter": [
           {
            "fillpattern": {
             "fillmode": "overlay",
             "size": 10,
             "solidity": 0.2
            },
            "type": "scatter"
           }
          ],
          "scatter3d": [
           {
            "line": {
             "colorbar": {
              "outlinewidth": 0,
              "ticks": ""
             }
            },
            "marker": {
             "colorbar": {
              "outlinewidth": 0,
              "ticks": ""
             }
            },
            "type": "scatter3d"
           }
          ],
          "scattercarpet": [
           {
            "marker": {
             "colorbar": {
              "outlinewidth": 0,
              "ticks": ""
             }
            },
            "type": "scattercarpet"
           }
          ],
          "scattergeo": [
           {
            "marker": {
             "colorbar": {
              "outlinewidth": 0,
              "ticks": ""
             }
            },
            "type": "scattergeo"
           }
          ],
          "scattergl": [
           {
            "marker": {
             "colorbar": {
              "outlinewidth": 0,
              "ticks": ""
             }
            },
            "type": "scattergl"
           }
          ],
          "scattermapbox": [
           {
            "marker": {
             "colorbar": {
              "outlinewidth": 0,
              "ticks": ""
             }
            },
            "type": "scattermapbox"
           }
          ],
          "scatterpolar": [
           {
            "marker": {
             "colorbar": {
              "outlinewidth": 0,
              "ticks": ""
             }
            },
            "type": "scatterpolar"
           }
          ],
          "scatterpolargl": [
           {
            "marker": {
             "colorbar": {
              "outlinewidth": 0,
              "ticks": ""
             }
            },
            "type": "scatterpolargl"
           }
          ],
          "scatterternary": [
           {
            "marker": {
             "colorbar": {
              "outlinewidth": 0,
              "ticks": ""
             }
            },
            "type": "scatterternary"
           }
          ],
          "surface": [
           {
            "colorbar": {
             "outlinewidth": 0,
             "ticks": ""
            },
            "colorscale": [
             [
              0,
              "#0d0887"
             ],
             [
              0.1111111111111111,
              "#46039f"
             ],
             [
              0.2222222222222222,
              "#7201a8"
             ],
             [
              0.3333333333333333,
              "#9c179e"
             ],
             [
              0.4444444444444444,
              "#bd3786"
             ],
             [
              0.5555555555555556,
              "#d8576b"
             ],
             [
              0.6666666666666666,
              "#ed7953"
             ],
             [
              0.7777777777777778,
              "#fb9f3a"
             ],
             [
              0.8888888888888888,
              "#fdca26"
             ],
             [
              1,
              "#f0f921"
             ]
            ],
            "type": "surface"
           }
          ],
          "table": [
           {
            "cells": {
             "fill": {
              "color": "#EBF0F8"
             },
             "line": {
              "color": "white"
             }
            },
            "header": {
             "fill": {
              "color": "#C8D4E3"
             },
             "line": {
              "color": "white"
             }
            },
            "type": "table"
           }
          ]
         },
         "layout": {
          "annotationdefaults": {
           "arrowcolor": "#2a3f5f",
           "arrowhead": 0,
           "arrowwidth": 1
          },
          "autotypenumbers": "strict",
          "coloraxis": {
           "colorbar": {
            "outlinewidth": 0,
            "ticks": ""
           }
          },
          "colorscale": {
           "diverging": [
            [
             0,
             "#8e0152"
            ],
            [
             0.1,
             "#c51b7d"
            ],
            [
             0.2,
             "#de77ae"
            ],
            [
             0.3,
             "#f1b6da"
            ],
            [
             0.4,
             "#fde0ef"
            ],
            [
             0.5,
             "#f7f7f7"
            ],
            [
             0.6,
             "#e6f5d0"
            ],
            [
             0.7,
             "#b8e186"
            ],
            [
             0.8,
             "#7fbc41"
            ],
            [
             0.9,
             "#4d9221"
            ],
            [
             1,
             "#276419"
            ]
           ],
           "sequential": [
            [
             0,
             "#0d0887"
            ],
            [
             0.1111111111111111,
             "#46039f"
            ],
            [
             0.2222222222222222,
             "#7201a8"
            ],
            [
             0.3333333333333333,
             "#9c179e"
            ],
            [
             0.4444444444444444,
             "#bd3786"
            ],
            [
             0.5555555555555556,
             "#d8576b"
            ],
            [
             0.6666666666666666,
             "#ed7953"
            ],
            [
             0.7777777777777778,
             "#fb9f3a"
            ],
            [
             0.8888888888888888,
             "#fdca26"
            ],
            [
             1,
             "#f0f921"
            ]
           ],
           "sequentialminus": [
            [
             0,
             "#0d0887"
            ],
            [
             0.1111111111111111,
             "#46039f"
            ],
            [
             0.2222222222222222,
             "#7201a8"
            ],
            [
             0.3333333333333333,
             "#9c179e"
            ],
            [
             0.4444444444444444,
             "#bd3786"
            ],
            [
             0.5555555555555556,
             "#d8576b"
            ],
            [
             0.6666666666666666,
             "#ed7953"
            ],
            [
             0.7777777777777778,
             "#fb9f3a"
            ],
            [
             0.8888888888888888,
             "#fdca26"
            ],
            [
             1,
             "#f0f921"
            ]
           ]
          },
          "colorway": [
           "#636efa",
           "#EF553B",
           "#00cc96",
           "#ab63fa",
           "#FFA15A",
           "#19d3f3",
           "#FF6692",
           "#B6E880",
           "#FF97FF",
           "#FECB52"
          ],
          "font": {
           "color": "#2a3f5f"
          },
          "geo": {
           "bgcolor": "white",
           "lakecolor": "white",
           "landcolor": "white",
           "showlakes": true,
           "showland": true,
           "subunitcolor": "#C8D4E3"
          },
          "hoverlabel": {
           "align": "left"
          },
          "hovermode": "closest",
          "mapbox": {
           "style": "light"
          },
          "paper_bgcolor": "white",
          "plot_bgcolor": "white",
          "polar": {
           "angularaxis": {
            "gridcolor": "#EBF0F8",
            "linecolor": "#EBF0F8",
            "ticks": ""
           },
           "bgcolor": "white",
           "radialaxis": {
            "gridcolor": "#EBF0F8",
            "linecolor": "#EBF0F8",
            "ticks": ""
           }
          },
          "scene": {
           "xaxis": {
            "backgroundcolor": "white",
            "gridcolor": "#DFE8F3",
            "gridwidth": 2,
            "linecolor": "#EBF0F8",
            "showbackground": true,
            "ticks": "",
            "zerolinecolor": "#EBF0F8"
           },
           "yaxis": {
            "backgroundcolor": "white",
            "gridcolor": "#DFE8F3",
            "gridwidth": 2,
            "linecolor": "#EBF0F8",
            "showbackground": true,
            "ticks": "",
            "zerolinecolor": "#EBF0F8"
           },
           "zaxis": {
            "backgroundcolor": "white",
            "gridcolor": "#DFE8F3",
            "gridwidth": 2,
            "linecolor": "#EBF0F8",
            "showbackground": true,
            "ticks": "",
            "zerolinecolor": "#EBF0F8"
           }
          },
          "shapedefaults": {
           "line": {
            "color": "#2a3f5f"
           }
          },
          "ternary": {
           "aaxis": {
            "gridcolor": "#DFE8F3",
            "linecolor": "#A2B1C6",
            "ticks": ""
           },
           "baxis": {
            "gridcolor": "#DFE8F3",
            "linecolor": "#A2B1C6",
            "ticks": ""
           },
           "bgcolor": "white",
           "caxis": {
            "gridcolor": "#DFE8F3",
            "linecolor": "#A2B1C6",
            "ticks": ""
           }
          },
          "title": {
           "x": 0.05
          },
          "xaxis": {
           "automargin": true,
           "gridcolor": "#EBF0F8",
           "linecolor": "#EBF0F8",
           "ticks": "",
           "title": {
            "standoff": 15
           },
           "zerolinecolor": "#EBF0F8",
           "zerolinewidth": 2
          },
          "yaxis": {
           "automargin": true,
           "gridcolor": "#EBF0F8",
           "linecolor": "#EBF0F8",
           "ticks": "",
           "title": {
            "standoff": 15
           },
           "zerolinecolor": "#EBF0F8",
           "zerolinewidth": 2
          }
         }
        },
        "title": {
         "text": "Correlation Heatmap",
         "x": 0.5
        },
        "width": 1000,
        "xaxis": {
         "dtick": 1,
         "gridcolor": "rgb(0, 0, 0)",
         "showgrid": false,
         "side": "bottom",
         "ticks": "",
         "zeroline": false
        },
        "yaxis": {
         "autorange": "reversed",
         "dtick": 1,
         "showgrid": false,
         "ticks": "",
         "ticksuffix": "  ",
         "zeroline": false
        }
       }
      }
     },
     "metadata": {},
     "output_type": "display_data"
    }
   ],
   "source": [
    "eda_outputs.eda_correlation_heatmap(data=original_data_df)"
   ]
  },
  {
   "attachments": {},
   "cell_type": "markdown",
   "metadata": {},
   "source": [
    "### Feature Engineering"
   ]
  },
  {
   "cell_type": "code",
   "execution_count": null,
   "metadata": {},
   "outputs": [],
   "source": [
    "import requests\n",
    "import urllib.parse\n",
    "\n",
    "address = 'Shivaji Nagar, Bangalore, KA 560001'\n",
    "url = 'https://nominatim.openstreetmap.org/search/' + urllib.parse.quote(address) +'?format=json'\n",
    "\n",
    "response = requests.get(url).json()\n",
    "print(response[0][\"lat\"])\n",
    "print(response[0][\"lon\"])"
   ]
  },
  {
   "cell_type": "code",
   "execution_count": null,
   "metadata": {},
   "outputs": [],
   "source": []
  }
 ],
 "metadata": {
  "kernelspec": {
   "display_name": "small_biz",
   "language": "python",
   "name": "python3"
  },
  "language_info": {
   "codemirror_mode": {
    "name": "ipython",
    "version": 3
   },
   "file_extension": ".py",
   "mimetype": "text/x-python",
   "name": "python",
   "nbconvert_exporter": "python",
   "pygments_lexer": "ipython3",
   "version": "3.10.8"
  },
  "orig_nbformat": 4,
  "vscode": {
   "interpreter": {
    "hash": "7965ddfa5eda1ca149caf33b29b75c72c5bf73670756d771c8dffa2bc98b485c"
   }
  }
 },
 "nbformat": 4,
 "nbformat_minor": 2
}
