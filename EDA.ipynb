{
 "cells": [
  {
   "attachments": {},
   "cell_type": "markdown",
   "metadata": {},
   "source": [
    "### Libraries and Modules"
   ]
  },
  {
   "cell_type": "code",
   "execution_count": 1,
   "metadata": {},
   "outputs": [],
   "source": [
    "from Read_Data.read_data_df import Read_Data_DF\n",
    "from Input_Values.input_vars import input_data_location\n",
    "\n",
    "import pandas as pd"
   ]
  },
  {
   "attachments": {},
   "cell_type": "markdown",
   "metadata": {},
   "source": [
    "### Calling Modules"
   ]
  },
  {
   "cell_type": "code",
   "execution_count": 2,
   "metadata": {},
   "outputs": [],
   "source": [
    "read_data_df=Read_Data_DF()"
   ]
  },
  {
   "attachments": {},
   "cell_type": "markdown",
   "metadata": {},
   "source": [
    "### Read In Data"
   ]
  },
  {
   "cell_type": "code",
   "execution_count": 3,
   "metadata": {},
   "outputs": [],
   "source": [
    "original_data_df=read_data_df.data_to_pandas_df(input_data_location=input_data_location)"
   ]
  },
  {
   "cell_type": "code",
   "execution_count": 5,
   "metadata": {},
   "outputs": [
    {
     "data": {
      "text/plain": [
       "LoanNumber                             object\n",
       "DateApproved                   datetime64[ns]\n",
       "SBAOfficeCode                          object\n",
       "ProcessingMethod                       object\n",
       "BorrowerName                           object\n",
       "BorrowerAddress                        object\n",
       "BorrowerCity                           object\n",
       "BorrowerState                          object\n",
       "BorrowerZip                            object\n",
       "LoanStatusDate                 datetime64[ns]\n",
       "LoanStatus                             object\n",
       "Term                                    int64\n",
       "SBAGuarantyPercentage                 float64\n",
       "InitialApprovalAmount                 float64\n",
       "CurrentApprovalAmount                 float64\n",
       "UndisbursedAmount                     float64\n",
       "FranchiseName                          object\n",
       "ServicingLenderLocationID              object\n",
       "ServicingLenderName                    object\n",
       "ServicingLenderAddress                 object\n",
       "ServicingLenderCity                    object\n",
       "ServicingLenderState                   object\n",
       "ServicingLenderZip                     object\n",
       "RuralUrbanIndicator                    object\n",
       "HubzoneIndicator                       object\n",
       "LMIIndicator                           object\n",
       "BusinessAgeDescription                 object\n",
       "ProjectCity                            object\n",
       "ProjectCountyName                      object\n",
       "ProjectState                           object\n",
       "ProjectZip                             object\n",
       "CD                                     object\n",
       "JobsReported                          float64\n",
       "NAICSCode                              object\n",
       "Race                                   object\n",
       "Ethnicity                              object\n",
       "UTILITIES_PROCEED                     float64\n",
       "PAYROLL_PROCEED                       float64\n",
       "MORTGAGE_INTEREST_PROCEED             float64\n",
       "RENT_PROCEED                          float64\n",
       "REFINANCE_EIDL_PROCEED                float64\n",
       "HEALTH_CARE_PROCEED                   float64\n",
       "DEBT_INTEREST_PROCEED                 float64\n",
       "BusinessType                           object\n",
       "OriginatingLenderLocationID            object\n",
       "OriginatingLender                      object\n",
       "OriginatingLenderCity                  object\n",
       "OriginatingLenderState                 object\n",
       "Gender                                 object\n",
       "Veteran                                object\n",
       "NonProfit                              object\n",
       "ForgivenessAmount                     float64\n",
       "ForgivenessDate                datetime64[ns]\n",
       "dtype: object"
      ]
     },
     "execution_count": 5,
     "metadata": {},
     "output_type": "execute_result"
    }
   ],
   "source": [
    "original_data_df.dtypes"
   ]
  },
  {
   "cell_type": "code",
   "execution_count": null,
   "metadata": {},
   "outputs": [],
   "source": [
    "data=pd.read_csv('data/public_150k_plus_230101.csv')"
   ]
  },
  {
   "cell_type": "code",
   "execution_count": null,
   "metadata": {},
   "outputs": [],
   "source": [
    "data.columns"
   ]
  },
  {
   "cell_type": "code",
   "execution_count": null,
   "metadata": {},
   "outputs": [],
   "source": [
    "data.head()"
   ]
  },
  {
   "cell_type": "code",
   "execution_count": null,
   "metadata": {},
   "outputs": [],
   "source": [
    "data['ProcessingMethod'].unique()"
   ]
  },
  {
   "cell_type": "code",
   "execution_count": null,
   "metadata": {},
   "outputs": [],
   "source": [
    "import requests\n",
    "import urllib.parse\n",
    "\n",
    "address = 'Shivaji Nagar, Bangalore, KA 560001'\n",
    "url = 'https://nominatim.openstreetmap.org/search/' + urllib.parse.quote(address) +'?format=json'\n",
    "\n",
    "response = requests.get(url).json()\n",
    "print(response[0][\"lat\"])\n",
    "print(response[0][\"lon\"])"
   ]
  },
  {
   "cell_type": "code",
   "execution_count": null,
   "metadata": {},
   "outputs": [],
   "source": [
    "data['LoanStatus']"
   ]
  },
  {
   "cell_type": "code",
   "execution_count": null,
   "metadata": {},
   "outputs": [],
   "source": [
    "data[['ServicingLenderLocationID', 'ServicingLenderName',\n",
    "       'ServicingLenderAddress', 'ServicingLenderCity', 'ServicingLenderState',\n",
    "       'ServicingLenderZip', 'RuralUrbanIndicator', 'HubzoneIndicator',\n",
    "       'LMIIndicator', 'BusinessAgeDescription', 'ProjectCity',]]"
   ]
  },
  {
   "cell_type": "code",
   "execution_count": null,
   "metadata": {},
   "outputs": [],
   "source": [
    "data[['BusinessType', 'OriginatingLenderLocationID',\n",
    "       'OriginatingLender', 'OriginatingLenderCity', 'OriginatingLenderState',\n",
    "       'Gender', 'Veteran', 'NonProfit', 'ForgivenessAmount',\n",
    "       'ForgivenessDate']]"
   ]
  },
  {
   "cell_type": "code",
   "execution_count": null,
   "metadata": {},
   "outputs": [],
   "source": [
    "'LoanNumber', 'DateApproved', 'SBAOfficeCode', 'ProcessingMethod',\n",
    "'BorrowerName', 'BorrowerAddress', 'BorrowerCity', 'BorrowerState',\n",
    "'BorrowerZip', 'LoanStatusDate', 'LoanStatus', 'Term',\n",
    "       'SBAGuarantyPercentage', 'InitialApprovalAmount',\n",
    "       'CurrentApprovalAmount', 'UndisbursedAmount',\n",
    "       'ServicingLenderLocationID', 'ServicingLenderName',\n",
    "       'ServicingLenderAddress', 'ServicingLenderCity', 'ServicingLenderState',\n",
    "       'ServicingLenderZip', 'RuralUrbanIndicator', 'HubzoneIndicator',\n",
    "       'LMIIndicator', 'BusinessAgeDescription', 'ProjectCity',\n",
    "       'ProjectCountyName', 'ProjectState', 'ProjectZip', 'CD', 'JobsReported',\n",
    "       'NAICSCode', 'Race', 'Ethnicity', 'UTILITIES_PROCEED',\n",
    "       'PAYROLL_PROCEED', 'MORTGAGE_INTEREST_PROCEED', 'RENT_PROCEED',\n",
    "       'REFINANCE_EIDL_PROCEED', 'HEALTH_CARE_PROCEED',\n",
    "       'DEBT_INTEREST_PROCEED', 'BusinessType', 'OriginatingLenderLocationID',\n",
    "       'OriginatingLender', 'OriginatingLenderCity', 'OriginatingLenderState',\n",
    "       'Gender', 'Veteran', 'NonProfit', 'ForgivenessAmount',\n",
    "       'ForgivenessDate'"
   ]
  },
  {
   "cell_type": "code",
   "execution_count": null,
   "metadata": {},
   "outputs": [],
   "source": [
    "data.columns"
   ]
  },
  {
   "cell_type": "code",
   "execution_count": null,
   "metadata": {},
   "outputs": [],
   "source": [
    "data.nunique()"
   ]
  },
  {
   "cell_type": "code",
   "execution_count": null,
   "metadata": {},
   "outputs": [],
   "source": [
    "data.shape"
   ]
  },
  {
   "cell_type": "code",
   "execution_count": null,
   "metadata": {},
   "outputs": [],
   "source": [
    "data.columns"
   ]
  },
  {
   "cell_type": "code",
   "execution_count": null,
   "metadata": {},
   "outputs": [],
   "source": []
  }
 ],
 "metadata": {
  "kernelspec": {
   "display_name": "small_biz",
   "language": "python",
   "name": "python3"
  },
  "language_info": {
   "codemirror_mode": {
    "name": "ipython",
    "version": 3
   },
   "file_extension": ".py",
   "mimetype": "text/x-python",
   "name": "python",
   "nbconvert_exporter": "python",
   "pygments_lexer": "ipython3",
   "version": "3.10.8"
  },
  "orig_nbformat": 4,
  "vscode": {
   "interpreter": {
    "hash": "7965ddfa5eda1ca149caf33b29b75c72c5bf73670756d771c8dffa2bc98b485c"
   }
  }
 },
 "nbformat": 4,
 "nbformat_minor": 2
}
